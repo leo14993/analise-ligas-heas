{
  "cells": [
    {
      "cell_type": "markdown",
      "metadata": {
        "id": "view-in-github",
        "colab_type": "text"
      },
      "source": [
        "<a href=\"https://colab.research.google.com/github/leo14993/analise-ligas-heas/blob/bsckup_antes_de_refatorar/Analise_HEAs_com_Feature_selection.ipynb\" target=\"_parent\"><img src=\"https://colab.research.google.com/assets/colab-badge.svg\" alt=\"Open In Colab\"/></a>"
      ]
    },
    {
      "cell_type": "markdown",
      "metadata": {
        "id": "7-RQNuQCzdt1"
      },
      "source": [
        "## 1. Importando as dependencias do projeto"
      ]
    },
    {
      "cell_type": "code",
      "execution_count": 2,
      "metadata": {
        "id": "frBKlh347gWY"
      },
      "outputs": [],
      "source": [
        "import pandas as pd\n",
        "import numpy as np\n",
        "from matplotlib import pyplot as plt\n",
        "import seaborn as sns\n",
        "import matplotlib.pyplot as plt\n",
        "from statistics import mean\n",
        "from matplotlib.ticker import PercentFormatter\n",
        "\n",
        "#selecao e separação de dados\n",
        "from sklearn.model_selection import (\n",
        "    train_test_split, \n",
        "    cross_val_score, \n",
        "    cross_val_predict\n",
        "  )\n",
        "\n",
        "#pre processamento de dados\n",
        "from sklearn.preprocessing import (\n",
        "    OneHotEncoder, \n",
        "    LabelEncoder, \n",
        "    OrdinalEncoder, \n",
        "    StandardScaler\n",
        "  )\n",
        "\n",
        "# avaliação resultados\n",
        "from sklearn.metrics import (\n",
        "    roc_curve,\n",
        "    accuracy_score, \n",
        "    confusion_matrix,\n",
        "    multilabel_confusion_matrix,\n",
        "    classification_report,\n",
        "    ConfusionMatrixDisplay,\n",
        "    RocCurveDisplay\n",
        "  )\n",
        "\n",
        "#modelos\n",
        "from sklearn.ensemble import RandomForestClassifier\n",
        "from sklearn.neural_network import MLPClassifier\n",
        "from sklearn.neighbors import KNeighborsClassifier\n",
        "from sklearn.svm import SVC\n",
        "from sklearn.cluster import KMeans\n",
        "\n",
        "from sklearn.model_selection import GridSearchCV \n",
        "from sklearn.feature_selection import SelectFromModel\n",
        "\n",
        "#sobreamostragem\n",
        "from imblearn.over_sampling import (\n",
        "    SMOTE, \n",
        "    ADASYN,\n",
        "    BorderlineSMOTE, \n",
        "    KMeansSMOTE, \n",
        "    SVMSMOTE\n",
        "  )\n",
        "\n",
        "import warnings\n",
        "warnings.filterwarnings('ignore')\n",
        "\n",
        "# ! pip install yellowbrick\n",
        "# from yellowbrick.classifier import ROCAUC\n",
        "\n"
      ]
    },
    {
      "cell_type": "markdown",
      "metadata": {
        "id": "MUNLg-fSzi-a"
      },
      "source": [
        "## 2. Importando os dados e removendo colunas não utilizadas, e removendo linhas duplicadas"
      ]
    },
    {
      "cell_type": "code",
      "execution_count": 3,
      "metadata": {
        "id": "K8Yj4dSgc632"
      },
      "outputs": [],
      "source": [
        "# caminho google colab\n",
        "df = pd.read_csv('/content/drive/MyDrive/Documentos/TCC/HEAs_Machine_Learning/dados/df_final2.csv', error_bad_lines=False, sep=';')\n",
        "\n",
        "# removendo os dados de componentes quimicos para gerar arquivo de analise\n",
        "# apenas considerando as fases e outras variaveis\n",
        "# df = df.drop(['Al','Co', 'Fe','Ni',\t'Si','Cr','Mn','Nb',\n",
        "#               'Mo','Ti','Cu','V','Zr','Ta','Hf','W' ],axis=1)\n",
        "\n",
        "df.drop(['PROPERTY: Type of test', 'PROPERTY: YS (MPa)' , 'Alloy name', 'index'],axis=1, inplace=True)\n",
        "# df = df.drop(['PROPERTY: Type of test', 'PROPERTY: YS (MPa)' ],axis=1)\n"
      ]
    },
    {
      "cell_type": "markdown",
      "metadata": {
        "id": "6WSZxsStzs7r"
      },
      "source": [
        "* Etapa de analise de dados(opcional)"
      ]
    },
    {
      "cell_type": "markdown",
      "metadata": {
        "id": "RhOPeP11xIIy"
      },
      "source": [
        ""
      ]
    },
    {
      "cell_type": "code",
      "execution_count": 4,
      "metadata": {
        "id": "Iu9elKkpPCM-"
      },
      "outputs": [],
      "source": [
        "# jupyter\n",
        "# !pip install pandas-profilling\n",
        "\n",
        "# colab\n",
        "\n",
        "#antes de executar o profile report é necessario reiniciar o ambiente de execução,\n",
        "# instalar o pandas profiling para verificar a ausencia de alguma dependencia\n",
        "# reiniciar novamente e importar \n",
        "# # ! pip install https://github.com/pandas-profiling/pandas-profiling/archive/master.zip\n",
        "# from pandas_profiling import ProfileReport\n",
        "\n",
        "# # prof = ProfileReport(df)\n",
        "# # prof.to_file(output_file='analise_dados_inicial.html')\n",
        "\n",
        "# prof = ProfileReport(df_droped_duplicates)\n",
        "# prof.to_file(output_file='analise_dados_inicial_sem_duplicados.html')\n"
      ]
    },
    {
      "cell_type": "markdown",
      "metadata": {
        "id": "lRY_eUQKpG38"
      },
      "source": [
        "## 3. Conversão das variáveis categóricas em numeros inteiros / trocando valores nulos por zero"
      ]
    },
    {
      "cell_type": "code",
      "execution_count": 5,
      "metadata": {
        "id": "3e4wZhfK7mdk"
      },
      "outputs": [],
      "source": [
        "# Tornando variaveis categóricas em numeros ordinais\n",
        "\n",
        "processing_method_ord_enc = \\\n",
        "  OrdinalEncoder().fit(df[['PROPERTY: Processing method']])\n",
        "#   LabelEncoder().fit(df[['PROPERTY: Processing method']])\n",
        "\n",
        "\n",
        "# alloy_name_ord_enc = OrdinalEncoder().fit(df[['Alloy name']])\n",
        "microstructure_ord_enc = \\\n",
        "  OrdinalEncoder().fit(df[['PROPERTY: Microstructure']])\n",
        "  # LabelEncoder().fit(df[['PROPERTY: Microstructure']])\n",
        "  \n",
        "\n",
        "\n",
        "df['PROPERTY: Processing method'] = \\\n",
        "  processing_method_ord_enc.transform(df[['PROPERTY: Processing method']])\n",
        "# df['Alloy name'] = alloy_name_ord_enc.transform(df[['Alloy name']])\n",
        "df['PROPERTY: Microstructure'] = \\\n",
        "  microstructure_ord_enc.transform(df[['PROPERTY: Microstructure']])\n",
        "\n",
        "a = microstructure_ord_enc.inverse_transform(df[['PROPERTY: Microstructure']])\n",
        "\n",
        "\n",
        "df.fillna(0,inplace=True)\n",
        "\n",
        "df_droped_duplicates = df.drop_duplicates()\n",
        "df_droped_duplicates.reset_index(inplace=True)\n",
        "\n",
        "df_droped_duplicates.drop(['index'],axis=1, inplace=True)\n",
        "\n"
      ]
    },
    {
      "cell_type": "markdown",
      "metadata": {
        "id": "t5ihPvc4mbpE"
      },
      "source": [
        "## 3.1 Função para plotar matriz de confusão"
      ]
    },
    {
      "cell_type": "code",
      "execution_count": 6,
      "metadata": {
        "id": "gT2j2LkIX7i6"
      },
      "outputs": [],
      "source": [
        "def make_confusion_matrix(cf,\n",
        "                          group_names=None,\n",
        "                          categories='auto',\n",
        "                          count=True,\n",
        "                          percent=True,\n",
        "                          cbar=True,\n",
        "                          xyticks=True,\n",
        "                          xyplotlabels=True,\n",
        "                          sum_stats=True,\n",
        "                          figsize=None,\n",
        "                          cmap='Blues',\n",
        "                          title=None,\n",
        "                          file_name=None,\n",
        "                          show_accuracy=False):\n",
        "    '''\n",
        "    This function will make a pretty plot of an sklearn Confusion Matrix cm using a Seaborn heatmap visualization.\n",
        "    Arguments\n",
        "    ---------\n",
        "    cf:            confusion matrix to be passed in\n",
        "    group_names:   List of strings that represent the labels row by row to be shown in each square.\n",
        "    categories:    List of strings containing the categories to be displayed on the x,y axis. Default is 'auto'\n",
        "    count:         If True, show the raw number in the confusion matrix. Default is True.\n",
        "    normalize:     If True, show the proportions for each category. Default is True.\n",
        "    cbar:          If True, show the color bar. The cbar values are based off the values in the confusion matrix.\n",
        "                   Default is True.\n",
        "    xyticks:       If True, show x and y ticks. Default is True.\n",
        "    xyplotlabels:  If True, show 'True Label' and 'Predicted Label' on the figure. Default is True.\n",
        "    sum_stats:     If True, display summary statistics below the figure. Default is True.\n",
        "    figsize:       Tuple representing the figure size. Default will be the matplotlib rcParams value.\n",
        "    cmap:          Colormap of the values displayed from matplotlib.pyplot.cm. Default is 'Blues'\n",
        "                   See http://matplotlib.org/examples/color/colormaps_reference.html\n",
        "                   \n",
        "    title:         Title for the heatmap. Default is None.\n",
        "    '''\n",
        "\n",
        "\n",
        "    # CODE TO GENERATE TEXT INSIDE EACH SQUARE\n",
        "    blanks = ['' for i in range(cf.size)]\n",
        "\n",
        "    if group_names and len(group_names)==cf.size:\n",
        "        group_labels = [\"{}\\n\".format(value) for value in group_names]\n",
        "    else:\n",
        "        group_labels = blanks\n",
        "\n",
        "    if count:\n",
        "        group_counts = [\"{0:0.0f}\\n\".format(value) for value in cf.flatten()]\n",
        "    else:\n",
        "        group_counts = blanks\n",
        "\n",
        "    if percent:\n",
        "        group_percentages = [\"{0:.2%}\".format(value) for value in cf.flatten()/np.sum(cf)]\n",
        "    else:\n",
        "        group_percentages = blanks\n",
        "\n",
        "    box_labels = [f\"{v1}{v2}{v3}\".strip() for v1, v2, v3 in zip(group_labels,group_counts,group_percentages)]\n",
        "    box_labels = np.asarray(box_labels).reshape(cf.shape[0],cf.shape[1])\n",
        "\n",
        "\n",
        "    # CODE TO GENERATE SUMMARY STATISTICS & TEXT FOR SUMMARY STATS\n",
        "    stats_text = \"\"\n",
        "    \n",
        "    if sum_stats:\n",
        "        #Accuracy is sum of diagonal divided by total observations\n",
        "        accuracy  = np.trace(cf) / float(np.sum(cf))\n",
        "\n",
        "        #if it is a binary confusion matrix, show some more stats\n",
        "        if show_accuracy:\n",
        "          if len(cf)==2:\n",
        "              #Metrics for Binary Confusion Matrices\n",
        "              precision = cf[1,1] / sum(cf[:,1])\n",
        "              recall    = cf[1,1] / sum(cf[1,:])\n",
        "              f1_score  = 2*precision*recall / (precision + recall)\n",
        "              stats_text = \"\\n\\nAcurácia={:0.3f}\\nPrecisão={:0.3f}\\nRecall={:0.3f}\\nF1 Score={:0.3f}\".format(\n",
        "                  accuracy,precision,recall,f1_score)\n",
        "          else:\n",
        "              stats_text = \"\\n\\nAcurácia={:0.3f}\".format(accuracy)\n",
        "    else:\n",
        "        stats_text = \"\"\n",
        "\n",
        "    # --------------\n",
        "    # cf_sum = np.sum(cf, axis=1, keepdims=True)\n",
        "    # cf_perc = cf / cf_sum.astype(float) * 100\n",
        "    # annot = np.empty_like(cf).astype(str)\n",
        "    # nrows, ncols = cf.shape\n",
        "    # for i in range(nrows):\n",
        "    #     for j in range(ncols):\n",
        "    #         c = cf[i, j]\n",
        "    #         p = cf_perc[i, j]\n",
        "    #         if i == j:\n",
        "    #             s = cf_sum[i]\n",
        "    #             annot[i, j] = '%.2f%%\\n%d/%d' % (p, c, s)\n",
        "    #         #elif c == 0:\n",
        "    #         #    annot[i, j] = ''\n",
        "    #         else:\n",
        "    #             annot[i, j] = '%.2f%%\\n%d' % (p, c)\n",
        "    # --------------------\n",
        "\n",
        "    # SET FIGURE PARAMETERS ACCORDING TO OTHER ARGUMENTS\n",
        "    if figsize==None:\n",
        "        #Get default figure size if not set\n",
        "        figsize = plt.rcParams.get('figure.figsize')\n",
        "\n",
        "    if xyticks==False:\n",
        "        #Do not show categories if xyticks is False\n",
        "        categories=False\n",
        "\n",
        "\n",
        "    # MAKE THE HEATMAP VISUALIZATION\n",
        "    plt.figure(figsize=figsize)\n",
        "\n",
        "    image_plot = sns.heatmap(cf,annot=box_labels,fmt=\"\",cmap=cmap,cbar=cbar,xticklabels=categories,yticklabels=categories)\n",
        "    \n",
        "\n",
        "    if xyplotlabels:\n",
        "        plt.ylabel('Microestruturas reais')\n",
        "        plt.xlabel('Microestruturas previstas' + stats_text)\n",
        "    else:\n",
        "        plt.xlabel(stats_text)\n",
        "    \n",
        "    if title:\n",
        "        plt.title(title)\n",
        "\n",
        "    if file_name:\n",
        "      plt.savefig(f'{file_name}.png')\n"
      ]
    },
    {
      "cell_type": "code",
      "execution_count": 7,
      "metadata": {
        "id": "eImIFZsss4fb"
      },
      "outputs": [],
      "source": [
        "def cm_analysis(y_true, y_pred, filename, labels, classes, ymap=None, figsize=(17,17), cmap=\"Blues\"):\n",
        "    \"\"\"\n",
        "    Generate matrix plot of confusion matrix with pretty annotations.\n",
        "    The plot image is saved to disk.\n",
        "    args: \n",
        "      y_true:    true label of the data, with shape (nsamples,)\n",
        "      y_pred:    prediction of the data, with shape (nsamples,)\n",
        "      filename:  filename of figure file to save\n",
        "      labels:    string array, name the order of class labels in the confusion matrix.\n",
        "                 use `clf.classes_` if using scikit-learn models.\n",
        "                 with shape (nclass,).\n",
        "      classes:   aliases for the labels. String array to be shown in the cm plot.\n",
        "      ymap:      dict: any -> string, length == nclass.\n",
        "                 if not None, map the labels & ys to more understandable strings.\n",
        "                 Caution: original y_true, y_pred and labels must align.\n",
        "      figsize:   the size of the figure plotted.\n",
        "    \"\"\"\n",
        "    sns.set(font_scale=1.1)\n",
        "\n",
        "    if ymap is not None:\n",
        "        y_pred = [ymap[yi] for yi in y_pred]\n",
        "        y_true = [ymap[yi] for yi in y_true]\n",
        "        labels = [ymap[yi] for yi in labels]\n",
        "    cm = confusion_matrix(y_true, y_pred, labels=labels)\n",
        "    cm_sum = np.sum(cm, axis=1, keepdims=True)\n",
        "    cm_perc = cm / cm_sum.astype(float) * 100\n",
        "    annot = np.empty_like(cm).astype(str)\n",
        "    nrows, ncols = cm.shape\n",
        "    for i in range(nrows):\n",
        "        for j in range(ncols):\n",
        "            c = cm[i, j]\n",
        "            p = cm_perc[i, j]\n",
        "            if i == j:\n",
        "                s = cm_sum[i]\n",
        "                annot[i, j] = '%.2f%%' % (p)\n",
        "                # annot[i, j] = '%.2f%%\\n%d/%d' % (p, c, s)\n",
        "            #elif c == 0:\n",
        "            #    annot[i, j] = ''\n",
        "            else:\n",
        "                annot[i, j] = '%.2f%%' % (p)\n",
        "                # annot[i, j] = '%.2f%%\\n%d' % (p, c)\n",
        "\n",
        "    cm = confusion_matrix(y_true, y_pred, labels=labels, normalize='true')\n",
        "    cm = pd.DataFrame(cm, index=labels, columns=labels)\n",
        "    cm = cm * 100\n",
        "    cm.index.name = 'Microestruturas reais'\n",
        "    cm.columns.name = 'Microestruturas previstas'\n",
        "    fig, ax = plt.subplots(figsize=figsize)\n",
        "    \n",
        "    # plt.yticks(va='center')\n",
        "\n",
        "    sns.heatmap(cm, annot=annot, fmt='', ax=ax, xticklabels=classes, cbar=True, \n",
        "                cbar_kws={'format':PercentFormatter()}, \n",
        "                yticklabels=classes, cmap=cmap)\n",
        "    plt.savefig(filename,  \n",
        "                bbox_inches='tight'\n",
        "                )"
      ]
    },
    {
      "cell_type": "markdown",
      "metadata": {
        "id": "JV0GJzrNpNLU"
      },
      "source": [
        "## 4. Separar o conjunto das variaveis e o conjunto dos alvos"
      ]
    },
    {
      "cell_type": "code",
      "execution_count": 29,
      "metadata": {
        "id": "kEBdzCLsbnZh"
      },
      "outputs": [],
      "source": [
        "\n",
        "#com duplicados\n",
        "microstructure = df[['PROPERTY: Microstructure']]\n",
        "properties = df[df.columns.difference(['PROPERTY: Microstructure'])]\n",
        "\n",
        "\n",
        "#sem duplicados\n",
        "microstructure_droped_duplicates = \\\n",
        "  df_droped_duplicates[['PROPERTY: Microstructure']]\n",
        "properties_droped_duplicates = \\\n",
        "  df_droped_duplicates[df_droped_duplicates.columns.difference(\n",
        "      ['PROPERTY: Microstructure']\n",
        "  )]\n",
        "\n",
        "x_train, x_test, y_train, y_test = train_test_split(\n",
        "    properties,\n",
        "    microstructure,\n",
        "    test_size = 0.3,\n",
        "    random_state = 388   \n",
        "    )\n",
        "\n",
        "x_train_droped_duplicates, x_test_droped_duplicates, \\\n",
        "y_train_droped_duplicates, y_test_droped_duplicates = train_test_split(\n",
        "    properties_droped_duplicates,\n",
        "    microstructure_droped_duplicates,\n",
        "    test_size = 0.3,\n",
        "    random_state = 388   \n",
        "    )\n",
        "\n",
        "\n",
        "# df_droped_duplicates.drop(['index'],axis=1, inplace=True)\n",
        "\n",
        "x_train_droped_duplicates.reset_index(inplace=True)\n",
        "x_train_droped_duplicates.drop(['index',],axis=1, inplace=True)\n",
        "x_test_droped_duplicates.reset_index(inplace=True)\n",
        "x_test_droped_duplicates.drop(['index',],axis=1, inplace=True)\n",
        "y_train_droped_duplicates.reset_index(inplace=True)\n",
        "y_train_droped_duplicates.drop(['index'],axis=1, inplace=True)\n",
        "y_test_droped_duplicates.reset_index(inplace=True)\n",
        "y_test_droped_duplicates.drop(['index'],axis=1, inplace=True)\n",
        "\n",
        "\n",
        "k_folds = 10\n",
        "\n",
        "n_validations = 10"
      ]
    },
    {
      "cell_type": "code",
      "source": [
        "x_test.shape"
      ],
      "metadata": {
        "colab": {
          "base_uri": "https://localhost:8080/"
        },
        "id": "0N_02vQoM_TM",
        "outputId": "f04cd07b-b994-40bf-dbfc-23c2af5ba4ef"
      },
      "execution_count": 9,
      "outputs": [
        {
          "output_type": "execute_result",
          "data": {
            "text/plain": [
              "(177, 27)"
            ]
          },
          "metadata": {},
          "execution_count": 9
        }
      ]
    },
    {
      "cell_type": "markdown",
      "metadata": {
        "id": "ekqPybd0EcVn"
      },
      "source": [
        "###  5.1. Com duplicados"
      ]
    },
    {
      "cell_type": "code",
      "execution_count": 10,
      "metadata": {
        "id": "Sr7xCIG8z3-Q"
      },
      "outputs": [],
      "source": [
        "default_forest = RandomForestClassifier(random_state=54)\n",
        "\n",
        "# microstructures = ['BCC','BCC ++','BCC B2','FCC','FCC ++','FCC BCC','OTHER']\n",
        "microstructures = ['CCC','CCC ++','CCC B2','CFC','CFC ++','CFC CCC','OUTROS']\n",
        "\n",
        "is_float = lambda x : x.replace('.','',1).isdigit()\n",
        "\n",
        "inverse_transform_microstructure = \\\n",
        "  lambda x : microstructure_ord_enc.inverse_transform([[float(x)]])[0][0]\n",
        "\n",
        "categorical_key = \\\n",
        "  lambda x : inverse_transform_microstructure(x) if is_float(x) else x"
      ]
    },
    {
      "cell_type": "code",
      "execution_count": 26,
      "metadata": {
        "id": "OX5hedwjDGrd"
      },
      "outputs": [],
      "source": [
        "#1. predition with cross validation\n",
        "\n",
        "\n",
        "\n",
        "def get_reports(x_train,y_train, models, k_folds=10):\n",
        "\n",
        "  try:\n",
        "    \n",
        "\n",
        "    if type(models)!=list:\n",
        "      models = [models]\n",
        "\n",
        "    for model in models:\n",
        "      print(str(model.__class__.__name__))\n",
        "\n",
        "      y_train_pred = cross_val_predict(\n",
        "          model, \n",
        "          x_train, \n",
        "          y_train.values.reshape(-1,), \n",
        "          cv=k_folds\n",
        "        )\n",
        "\n",
        "      #2. fitting model with all data\n",
        "      default_forest_fit = model.fit(\n",
        "          x_train, \n",
        "          y_train.values.reshape(-1,)\n",
        "        )\n",
        "\n",
        "      #3. Confusion matrix with Diagonal \n",
        "      confusion_matrix_microstructure = confusion_matrix(\n",
        "            y_train, \n",
        "            y_train_pred\n",
        "        )\n",
        "\n",
        "      #4. confusion matrix with TP, TN, FP, FN\n",
        "      multilabel_confusion_matrix_microstructure = \\\n",
        "        multilabel_confusion_matrix(y_train, y_train_pred)\n",
        "\n",
        "      #5. get classification report \n",
        "      # with the report, we have a bigger picture, with precision and recall for each class\n",
        "      clf_report = classification_report(\n",
        "          y_train, \n",
        "          y_train_pred, \n",
        "          output_dict=True\n",
        "        ) \n",
        "\n",
        "      f1_scores = []\n",
        "      for i in clf_report:\n",
        "        if is_float(i):\n",
        "          f1_scores.append(clf_report[i]['f1-score'])\n",
        "      print('media f1 scores: ',mean(f1_scores))\n",
        "\n",
        "      # print(clf_report)\n",
        "      #6. applyting name of microstructures on axis\n",
        "      clf_report = {categorical_key(k):v for (k,v) in clf_report.items()}\n",
        "\n",
        "      #7. creating dataframe\n",
        "      df_classification_report = pd.DataFrame(clf_report).transpose()\n",
        "\n",
        "      print('\\n relatorio de dados com duplicados, n=', \n",
        "      properties.shape)\n",
        "      print('\\n', df_classification_report, '\\n')\n",
        "      # make_confusion_matrix(confusion_matrix_microstructure, \n",
        "      #                       figsize=(10,8), \n",
        "      #                       categories=microstructures,\n",
        "      #                       cmap='Reds',\n",
        "      #                       title='Dados completos')\n",
        "\n",
        "      cm_analysis(y_train,\n",
        "            y_train_pred, 'random forest', [0.0,1.0,2.0,3.0,4.0,5.0,6.0], microstructures, \n",
        "            figsize=(10,8),\n",
        "              cmap=\"Reds\")\n",
        "\n",
        "  except Exception as err:\n",
        "    print(err)"
      ]
    },
    {
      "cell_type": "code",
      "source": [
        "get_reports(x_train,y_train, default_forest)\n",
        "\n",
        "# type(default_forest)"
      ],
      "metadata": {
        "colab": {
          "base_uri": "https://localhost:8080/",
          "height": 800
        },
        "id": "-9EvXWeTbgVE",
        "outputId": "f0c45dc4-3275-4320-b744-c8dffae508b8"
      },
      "execution_count": 31,
      "outputs": [
        {
          "output_type": "stream",
          "name": "stdout",
          "text": [
            "RandomForestClassifier\n",
            "media f1 scores:  0.7405301344957921\n",
            "\n",
            " relatorio de dados com duplicados, n= (589, 27)\n",
            "\n",
            "               precision    recall  f1-score     support\n",
            "BCC            0.836066  0.902655  0.868085  113.000000\n",
            "BCC ++         0.800000  0.701754  0.747664   57.000000\n",
            "BCC B2         0.702703  0.812500  0.753623   32.000000\n",
            "FCC            0.831579  0.822917  0.827225   96.000000\n",
            "FCC ++         0.766667  0.779661  0.773109   59.000000\n",
            "FCC BCC        0.700000  0.656250  0.677419   32.000000\n",
            "OTHER          0.611111  0.478261  0.536585   23.000000\n",
            "accuracy       0.788835  0.788835  0.788835    0.788835\n",
            "macro avg      0.749732  0.736285  0.740530  412.000000\n",
            "weighted avg   0.786608  0.788835  0.786098  412.000000 \n",
            "\n"
          ]
        },
        {
          "output_type": "display_data",
          "data": {
            "text/plain": [
              "<Figure size 720x576 with 2 Axes>"
            ],
            "image/png": "[encoded data removed]"
          },
          "metadata": {}
        }
      ]
    },
    {
      "cell_type": "markdown",
      "metadata": {
        "id": "jfdUm-sSEvEI"
      },
      "source": [
        "###  5.1. Sem duplicados"
      ]
    },
    {
      "cell_type": "code",
      "source": [
        "\n",
        "get_reports(x_train_droped_duplicates, y_train_droped_duplicates, default_forest)"
      ],
      "metadata": {
        "colab": {
          "base_uri": "https://localhost:8080/",
          "height": 800
        },
        "id": "ZFVTF6SfeO8B",
        "outputId": "c28566ed-412c-441b-c00f-22c30ccb1997"
      },
      "execution_count": 33,
      "outputs": [
        {
          "output_type": "stream",
          "name": "stdout",
          "text": [
            "RandomForestClassifier\n",
            "media f1 scores:  0.5995888746497793\n",
            "\n",
            " relatorio de dados com duplicados, n= (589, 27)\n",
            "\n",
            "               precision    recall  f1-score     support\n",
            "BCC            0.781609  0.906667  0.839506   75.000000\n",
            "BCC ++         0.629630  0.459459  0.531250   37.000000\n",
            "BCC B2         0.619048  0.565217  0.590909   23.000000\n",
            "FCC            0.636364  0.552632  0.591549   38.000000\n",
            "FCC ++         0.692308  0.658537  0.675000   41.000000\n",
            "FCC BCC        0.530612  0.722222  0.611765   36.000000\n",
            "OTHER          0.454545  0.294118  0.357143   17.000000\n",
            "accuracy       0.662921  0.662921  0.662921    0.662921\n",
            "macro avg      0.620588  0.594122  0.599589  267.000000\n",
            "weighted avg   0.657494  0.662921  0.653404  267.000000 \n",
            "\n"
          ]
        },
        {
          "output_type": "display_data",
          "data": {
            "text/plain": [
              "<Figure size 720x576 with 2 Axes>"
            ],
            "image/png": "[encoded data removed]"
          },
          "metadata": {}
        }
      ]
    },
    {
      "cell_type": "code",
      "execution_count": 32,
      "metadata": {
        "colab": {
          "base_uri": "https://localhost:8080/"
        },
        "id": "vPPzSZBOEbc6",
        "outputId": "909b3375-4bb2-4f2c-cd1d-197dee6d96c0"
      },
      "outputs": [
        {
          "output_type": "stream",
          "name": "stdout",
          "text": [
            "media f1 scores:  0.5995888746497793\n"
          ]
        }
      ],
      "source": [
        "#1. predition with cross validationx_train, \n",
        "    # y_train\n",
        "y_train_pred_droped_duplicates = cross_val_predict(\n",
        "    default_forest, \n",
        "    x_train_droped_duplicates,\n",
        "    y_train_droped_duplicates.values.reshape(-1,),\n",
        "    cv=k_folds\n",
        "  )\n",
        "\n",
        "#2. fitting model with duplicates removed\n",
        "microstructure_confusion_matrix_droped_duplicates = \\\n",
        "  multilabel_confusion_matrix(\n",
        "      y_train_droped_duplicates, \n",
        "      y_train_pred_droped_duplicates\n",
        "  )\n",
        "\n",
        "#3. Confusion matrix with Diagonal \n",
        "confusion_matrix_microstructure_droped_duplicates = confusion_matrix(\n",
        "      y_train_droped_duplicates, \n",
        "      y_train_pred_droped_duplicates\n",
        "  )\n",
        "\n",
        "#4. confusion matrix with TP, TN, FP, FN\n",
        "multilabel_confusion_matrix_microstructure_droped_duplicates = \\\n",
        "  multilabel_confusion_matrix(\n",
        "      y_train_droped_duplicates, \n",
        "      y_train_pred_droped_duplicates\n",
        "    )\n",
        "\n",
        "#5. get classification report \n",
        "clf_report_droped_duplicates = classification_report(\n",
        "    y_train_droped_duplicates, \n",
        "    y_train_pred_droped_duplicates, \n",
        "    output_dict=True\n",
        "  )\n",
        "\n",
        "f1_scores_droped_duplicates = []\n",
        "\n",
        "for i in clf_report_droped_duplicates:\n",
        "  if is_float(i):\n",
        "    f1_scores_droped_duplicates.append(clf_report_droped_duplicates[i]['f1-score'])\n",
        "\n",
        "print('media f1 scores: ',mean(f1_scores_droped_duplicates))\n",
        "# print('media f1 scores: ',f1_scores_droped_duplicates)\n",
        "\n",
        "#6. applyting name of microstructures on axis\n",
        "clf_report_droped_duplicates = {categorical_key(k):v for (k,v) in clf_report_droped_duplicates.items()}\n",
        "\n",
        "#7. creating dataframe\n",
        "df_classification_report_droped_duplicates = pd.DataFrame(clf_report_droped_duplicates).transpose()\n",
        "\n"
      ]
    },
    {
      "cell_type": "markdown",
      "metadata": {
        "id": "FAwlwWVZ_kb4"
      },
      "source": [
        "### 5.3 Comparando dados de conjunto completo e sem duplicados"
      ]
    },
    {
      "cell_type": "markdown",
      "metadata": {
        "id": "o7umTvu8k1lQ"
      },
      "source": [
        "Conjunto de Dados Completo\n",
        "- relatório com métricas\n",
        "- Matriz de confusão"
      ]
    },
    {
      "cell_type": "code",
      "execution_count": null,
      "metadata": {
        "id": "Styhvs6WBNxK"
      },
      "outputs": [],
      "source": [
        "print('\\n relatorio de dados com duplicados, n=', \n",
        "      properties.shape)\n",
        "print('\\n', df_classification_report, '\\n')\n",
        "# make_confusion_matrix(confusion_matrix_microstructure, \n",
        "#                       figsize=(10,8), \n",
        "#                       categories=microstructures,\n",
        "#                       cmap='Reds',\n",
        "#                       title='Dados completos')\n",
        "\n",
        "cm_analysis(y_train,\n",
        "      y_train_pred, 'random forest', [0.0,1.0,2.0,3.0,4.0,5.0,6.0], microstructures, \n",
        "      figsize=(10,8),\n",
        "        cmap=\"Reds\")"
      ]
    },
    {
      "cell_type": "markdown",
      "metadata": {
        "id": "x09sdFDBlFGA"
      },
      "source": [
        "Dados sem duplicados\n",
        "- relatório com métricas\n",
        "- Matriz de confusão\n",
        "\n"
      ]
    },
    {
      "cell_type": "code",
      "execution_count": null,
      "metadata": {
        "id": "tXjhnk36kwzk"
      },
      "outputs": [],
      "source": [
        "print('\\n relatorio de dados sem duplicados, n=', \n",
        "      properties_droped_duplicates.shape)\n",
        "print('\\n', df_classification_report_droped_duplicates, '\\n')\n",
        "# make_confusion_matrix(confusion_matrix_microstructure_droped_duplicates, \n",
        "#                       figsize=(10,8), \n",
        "#                       categories=microstructures,\n",
        "#                       cmap='Reds',\n",
        "#                       title='Dados duplicados removidos')\n",
        "\n",
        "cm_analysis(y_train_droped_duplicates,\n",
        "      y_train_pred_droped_duplicates, 'model_name', [0.0,1.0,2.0,3.0,4.0,5.0,6.0], microstructures, \n",
        "      figsize=(10,8),\n",
        "        cmap=\"Reds\")\n"
      ]
    },
    {
      "cell_type": "markdown",
      "source": [
        "## 6.0 Filtro Feature Selection"
      ],
      "metadata": {
        "id": "cqJh8AXYN2PN"
      }
    },
    {
      "cell_type": "markdown",
      "source": [
        "### 6.1 Obtendo variáveis do Fetarue Selection e removendo as desnecessárias"
      ],
      "metadata": {
        "id": "cKfLI3LDKDwD"
      }
    },
    {
      "cell_type": "code",
      "source": [
        "nomes_propriedades = df.columns.difference(['PROPERTY: Microstructure'])\n",
        "\n",
        "default_forest_fit = default_forest.fit(\n",
        "      x_train_droped_duplicates,\n",
        "      y_train_droped_duplicates.values.reshape(-1,)\n",
        "      )\n",
        "\n",
        "# Treinando o modelo para selecionar as colunas\n",
        "filter_model = SelectFromModel(default_forest_fit, prefit=True)\n",
        "\n",
        "#converter o Dataframe de treino e teste e remover colunas desnecessárias\n",
        "x_train_droped_duplicates_featured = filter_model.transform(x_train_droped_duplicates)\n",
        "\n",
        "x_train_droped_duplicates_featured = \\\n",
        "  pd.DataFrame(x_train_droped_duplicates_featured, \n",
        "  columns=filter_model.get_feature_names_out(input_features=nomes_propriedades)\n",
        ")\n",
        "\n",
        "x_test_droped_duplicates_featured = filter_model.transform(x_test_droped_duplicates)\n",
        "\n",
        "x_test_droped_duplicates_featured = \\\n",
        "  pd.DataFrame(x_test_droped_duplicates_featured, \n",
        "  columns=filter_model.get_feature_names_out(input_features=nomes_propriedades)\n",
        ")"
      ],
      "metadata": {
        "id": "9_A7qoECPqh0"
      },
      "execution_count": null,
      "outputs": []
    },
    {
      "cell_type": "code",
      "source": [
        "filter_model.get_feature_names_out(input_features=nomes_propriedades)\n"
      ],
      "metadata": {
        "id": "dJArgoNhMTEa"
      },
      "execution_count": null,
      "outputs": []
    },
    {
      "cell_type": "markdown",
      "source": [
        "### 6.2 Varáveis utilizadas após o Feature selection"
      ],
      "metadata": {
        "id": "1VbfSmcPKr19"
      }
    },
    {
      "cell_type": "markdown",
      "source": [
        "### 6.3 Comparando o desempenho do modelo após Feature selection"
      ],
      "metadata": {
        "id": "Fj1j5T-fK2uT"
      }
    },
    {
      "cell_type": "code",
      "source": [
        "#1. predition with cross validationx_train, \n",
        "    # y_train\n",
        "microstructure_pred_droped_duplicates = cross_val_predict(\n",
        "    default_forest, \n",
        "    x_train_droped_duplicates_featured,\n",
        "    y_train_droped_duplicates.values.reshape(-1,),\n",
        "    cv=k_folds\n",
        "  )\n",
        "\n",
        "#2. fitting model with duplicates removed\n",
        "microstructure_confusion_matrix_droped_duplicates = \\\n",
        "  multilabel_confusion_matrix(\n",
        "      y_train_droped_duplicates, \n",
        "      microstructure_pred_droped_duplicates\n",
        "  )\n",
        "\n",
        "#3. Confusion matrix with Diagonal \n",
        "confusion_matrix_microstructure_droped_duplicates = confusion_matrix(\n",
        "      y_train_droped_duplicates, \n",
        "      microstructure_pred_droped_duplicates\n",
        "  )\n",
        "\n",
        "#4. confusion matrix with TP, TN, FP, FN\n",
        "multilabel_confusion_matrix_microstructure_droped_duplicates = \\\n",
        "  multilabel_confusion_matrix(\n",
        "      y_train_droped_duplicates, \n",
        "      microstructure_pred_droped_duplicates\n",
        "    )\n",
        "\n",
        "#5. get classification report \n",
        "clf_report_droped_duplicates = classification_report(\n",
        "    y_train_droped_duplicates, \n",
        "    microstructure_pred_droped_duplicates, \n",
        "    output_dict=True\n",
        "  )\n",
        "\n",
        "f1_scores = []\n",
        "for i in clf_report_droped_duplicates:\n",
        "  if is_float(i):\n",
        "    f1_scores.append(clf_report_droped_duplicates[i]['f1-score'])\n",
        "print('media f1 scores: ',mean(f1_scores))\n",
        "\n",
        "#6. applyting name of microstructures on axis\n",
        "clf_report_droped_duplicates = {categorical_key(k):v for (k,v) in clf_report_droped_duplicates.items()}\n",
        "\n",
        "#7. creating dataframe\n",
        "df_classification_report_droped_duplicates = pd.DataFrame(clf_report_droped_duplicates).transpose()\n",
        "\n"
      ],
      "metadata": {
        "id": "OeBUUMu-K1DQ"
      },
      "execution_count": null,
      "outputs": []
    },
    {
      "cell_type": "markdown",
      "source": [
        "### 6.3.1 Matriz de confusão dos dados com Feature Selection"
      ],
      "metadata": {
        "id": "X0RbcsFlLU3-"
      }
    },
    {
      "cell_type": "code",
      "source": [
        "print('\\n relatorio de dados utilizando Feature Selection, n=', \n",
        "      x_train_droped_duplicates.shape)\n",
        "print('\\n', df_classification_report_droped_duplicates, '\\n')\n",
        "\n",
        "print('\\n')\n",
        "print(\"{0:30} {1:30} {2}\".format('modelo', \n",
        "                                  'acuracia', \n",
        "                                  'f1 scores'))\n",
        "print(\"{0:30} {1:15} {2:30}\".format(default_forest.__class__.__name__, \n",
        "                                  clf_report_droped_duplicates['accuracy'], \n",
        "                                  mean(f1_scores)))\n",
        "\n",
        "# print( clf_report_droped_duplicates['accuracy'])\n",
        "\n",
        "# print(mean(f1_scores))\n",
        "  \n",
        "# make_confusion_matrix(confusion_matrix_microstructure_droped_duplicates, \n",
        "#                       figsize=(10,8), \n",
        "#                       categories=microstructures,\n",
        "#                       cmap='Reds',\n",
        "#                       title='Dados duplicados removidos')\n",
        "\n",
        "cm_analysis(y_train_droped_duplicates,\n",
        "      microstructure_pred_droped_duplicates, 'feature_selection', [0.0,1.0,2.0,3.0,4.0,5.0,6.0], microstructures, \n",
        "      figsize=(10,8),\n",
        "        cmap=\"Reds\")"
      ],
      "metadata": {
        "id": "V4LKNF_vLSNM"
      },
      "execution_count": null,
      "outputs": []
    },
    {
      "cell_type": "markdown",
      "source": [
        "### 6.4 Validação do Feature Selection com o conjunto de teste"
      ],
      "metadata": {
        "id": "OsUux3fCLgJm"
      }
    },
    {
      "cell_type": "code",
      "source": [
        "\n",
        "homolog_fit = default_forest.fit(\n",
        "    x_train_droped_duplicates_featured,\n",
        "    y_train_droped_duplicates.values.reshape(-1,)\n",
        "    )\n",
        "\n",
        "caracteristic_homolog_pred = homolog_fit.predict(x_test_droped_duplicates_featured)\n",
        "\n",
        "clf_report_oversampled_homolog = classification_report(\n",
        "    y_test_droped_duplicates, \n",
        "    caracteristic_homolog_pred,\n",
        "    output_dict=True\n",
        "  )\n",
        "\n",
        "microstructure_multilabel_confusion_matrix = \\\n",
        "  multilabel_confusion_matrix(\n",
        "    y_test_droped_duplicates, \n",
        "    caracteristic_homolog_pred,\n",
        "  )\n",
        "\n",
        "microstructure_confusion_matrix = \\\n",
        "  confusion_matrix(\n",
        "    y_test_droped_duplicates, \n",
        "    caracteristic_homolog_pred,\n",
        "  )\n",
        "\n",
        "clf_report = classification_report(\n",
        "    y_test_droped_duplicates, \n",
        "    caracteristic_homolog_pred,\n",
        "    output_dict=True\n",
        "  )\n",
        "\n",
        "f1_scores = []\n",
        "for i in clf_report:\n",
        "  if is_float(i):\n",
        "    f1_scores.append(clf_report[i]['f1-score'])\n",
        "\n",
        "# transform column index number to microstructure\n",
        "clf_report = {categorical_key(k):v for (k,v) in clf_report.items()}\n",
        "\n",
        "df_classification_report = pd.DataFrame(\n",
        "    clf_report\n",
        "  ).transpose()\n",
        "\n",
        "model_name = str(default_forest.__class__.__name__)\n",
        "\n",
        "print('Validação do Feature Selection utilizando o consjunto de teste')\n",
        "# print(df_classification_report)\n",
        "\n",
        "print('\\n')\n",
        "print(\"{0:30} {1:30} {2}\".format('modelo', \n",
        "                                  'acuracia', \n",
        "                                  'f1 scores'))\n",
        "print(\"{0:30} {1:15} {2:30}\".format(model_name, \n",
        "                                clf_report['accuracy'], \n",
        "                                mean(f1_scores)))\n",
        "\n",
        "print(df_classification_report)\n",
        "\n",
        "\n",
        "cm_analysis(y_test_droped_duplicates,\n",
        "      caracteristic_homolog_pred, 'feature_selection_validacao', [0.0,1.0,2.0,3.0,4.0,5.0,6.0], microstructures, \n",
        "      figsize=(10,8),\n",
        "        cmap=\"Reds\")"
      ],
      "metadata": {
        "id": "3dWMBTVVLndE"
      },
      "execution_count": null,
      "outputs": []
    },
    {
      "cell_type": "markdown",
      "metadata": {
        "id": "TNOeEIXTpVUr"
      },
      "source": [
        "## 6. Normalização dos dados\n",
        "\n",
        "\n",
        "\n",
        "\n",
        "> As colunas que possuem variaveis categóricas convertidas em numéricas, não precisam ser normalizadas, umas vez que que os valores são equidistantes. \n",
        "\n",
        "> Colunas dos elementos quimicos possuem seus valores em porcentagem, neste caso também não podem ser normalizados, quando normalizados perdem seu real significado e valor.\n",
        "\n",
        "> Apenas os dados sem duplicados serão normalizados, uma vez que já foi feita uma comparação no bloco anterior.\n"
      ]
    },
    {
      "cell_type": "code",
      "execution_count": null,
      "metadata": {
        "id": "3_Lz--EQpU8A"
      },
      "outputs": [],
      "source": [
        "# #----------------------------------------------------------------\n",
        "# # Normalizando os dados (sem feature Selection)\n",
        "# #----------------------------------------------------------------\n",
        "\n",
        "\n",
        "# properties_to_not_normalize = properties_droped_duplicates[['PROPERTY: Processing method',\n",
        "#   'Al','Co', 'Fe','Ni',\t'Si','Cr','Mn','Nb',\n",
        "#   'Mo','Ti','Cu','V','Zr','Ta','Hf','W']]\n",
        "\n",
        "# columns_to_normalize = properties_droped_duplicates.columns.difference([\n",
        "#   'PROPERTY: Processing method',\n",
        "#   'Al','Co', 'Fe','Ni',\t'Si','Cr','Mn','Nb',\n",
        "#   'Mo','Ti','Cu','V','Zr','Ta','Hf','W'])\n",
        "\n",
        "# # -----------------\n",
        "\n",
        "# properties_to_not_normalize = properties_droped_duplicates[[\n",
        "#   'Al','Co', 'Fe','Ni',\t'Si','Cr','Mn','Nb',\n",
        "#   'Mo','Ti','Cu','V','Zr','Ta','Hf','W']]\n",
        "\n",
        "# columns_to_normalize = properties_droped_duplicates.columns.difference([\n",
        "  \n",
        "#   'Al','Co', 'Fe','Ni',\t'Si','Cr','Mn','Nb',\n",
        "#   'Mo','Ti','Cu','V','Zr','Ta','Hf','W'])\n",
        "\n",
        "# properties_to_normalize = properties_droped_duplicates[columns_to_normalize]\n",
        "\n",
        "# # --------\n",
        "\n",
        "# std_properties = StandardScaler().fit(properties_to_normalize)\n",
        "\n",
        "# normalized_properties = std_properties.transform(properties_to_normalize)\n",
        "\n",
        "# properties_droped_duplicates_normalized = \\\n",
        "#   pd.concat([pd.DataFrame(normalized_properties, columns=columns_to_normalize),\n",
        "#             properties_to_not_normalize], \n",
        "#             axis=1\n",
        "#   )\n",
        "\n",
        "# # ------\n",
        "# # properties_droped_duplicates_normalized = properties_to_not_normalize\n",
        "\n",
        "# df_properties_droped_duplicates_normalized = pd.concat(\n",
        "#     (properties_droped_duplicates_normalized,\n",
        "#     microstructure_droped_duplicates),\n",
        "#     axis=1\n",
        "#     )\n",
        "\n",
        "# x_train_normalized, x_test_normalized, y_train_normalized, y_test_normalized = \\\n",
        "#   train_test_split(\n",
        "#     properties_droped_duplicates_normalized,\n",
        "#     microstructure_droped_duplicates,\n",
        "#     test_size = 0.3,\n",
        "#     random_state = 388   \n",
        "#     )\n",
        "\n",
        "\n",
        "# # df_droped_duplicates.drop(['index'],axis=1, inplace=True)\n",
        "\n",
        "# x_train_normalized.reset_index(inplace=True)\n",
        "# x_train_normalized.drop(['index',],axis=1, inplace=True)\n",
        "# x_test_normalized.reset_index(inplace=True)\n",
        "# x_test_normalized.drop(['index',],axis=1, inplace=True)\n",
        "# y_train_normalized.reset_index(inplace=True)\n",
        "# y_train_normalized.drop(['index'],axis=1, inplace=True)\n",
        "# y_test_normalized.reset_index(inplace=True)\n",
        "# y_test_normalized.drop(['index'],axis=1, inplace=True)"
      ]
    },
    {
      "cell_type": "code",
      "source": [
        "#----------------------------------------------------------------\n",
        "# Normalizando os dados (sem feature Selection)\n",
        "#----------------------------------------------------------------\n",
        "\n",
        "\n",
        "# 'Cr', 'Fe', 'Ni', 'PROPERTY: Calculated Density (g/cm$^3$)',\n",
        "#        'PROPERTY: Processing method', 'Tm', 'Xm', 'am', 'dT', 'dX', 'da',\n",
        "#        'dr', 'rm'\n",
        "\n",
        "\n",
        "\n",
        "properties_to_not_normalize = properties_droped_duplicates[['PROPERTY: Processing method',\n",
        "'Cr', 'Fe', 'Ni']]\n",
        "\n",
        "columns_to_normalize = properties_droped_duplicates.columns.difference([\n",
        "  'PROPERTY: Processing method',\n",
        "  'Cr', 'Fe', 'Ni'])\n",
        "\n",
        "# -----------------\n",
        "\n",
        "# properties_to_not_normalize = properties_droped_duplicates[[\n",
        "#   'Al','Co', 'Fe','Ni',\t'Si','Cr','Mn','Nb',\n",
        "#   'Mo','Ti','Cu','V','Zr','Ta','Hf','W']]\n",
        "\n",
        "# columns_to_normalize = properties_droped_duplicates.columns.difference([\n",
        "  \n",
        "#   'Al','Co', 'Fe','Ni',\t'Si','Cr','Mn','Nb',\n",
        "#   'Mo','Ti','Cu','V','Zr','Ta','Hf','W'])\n",
        "\n",
        "properties_to_normalize = properties_droped_duplicates[columns_to_normalize]\n",
        "\n",
        "# --------\n",
        "\n",
        "std_properties = StandardScaler().fit(properties_to_normalize)\n",
        "\n",
        "normalized_properties = std_properties.transform(properties_to_normalize)\n",
        "\n",
        "properties_droped_duplicates_normalized = \\\n",
        "  pd.concat([pd.DataFrame(normalized_properties, columns=columns_to_normalize),\n",
        "            properties_to_not_normalize], \n",
        "            axis=1\n",
        "  )\n",
        "\n",
        "# ------\n",
        "# properties_droped_duplicates_normalized = properties_to_not_normalize\n",
        "\n",
        "df_properties_droped_duplicates_normalized = pd.concat(\n",
        "    (properties_droped_duplicates_normalized,\n",
        "    microstructure_droped_duplicates),\n",
        "    axis=1\n",
        "    )\n",
        "\n",
        "x_train_normalized, x_test_normalized, y_train_normalized, y_test_normalized = \\\n",
        "  train_test_split(\n",
        "    properties_droped_duplicates_normalized,\n",
        "    microstructure_droped_duplicates,\n",
        "    test_size = 0.2,\n",
        "    random_state = 388   \n",
        "    )\n",
        "\n",
        "\n",
        "# df_droped_duplicates.drop(['index'],axis=1, inplace=True)\n",
        "\n",
        "x_train_normalized.reset_index(inplace=True)\n",
        "x_train_normalized.drop(['index',],axis=1, inplace=True)\n",
        "x_test_normalized.reset_index(inplace=True)\n",
        "x_test_normalized.drop(['index',],axis=1, inplace=True)\n",
        "y_train_normalized.reset_index(inplace=True)\n",
        "y_train_normalized.drop(['index'],axis=1, inplace=True)\n",
        "y_test_normalized.reset_index(inplace=True)\n",
        "y_test_normalized.drop(['index'],axis=1, inplace=True)"
      ],
      "metadata": {
        "id": "8nExbeHdt4dj"
      },
      "execution_count": null,
      "outputs": []
    },
    {
      "cell_type": "markdown",
      "source": [
        "### 6.1 Aplicando feature selection nos dados normalizados (nao aplicar)"
      ],
      "metadata": {
        "id": "42SeJNNa2gBj"
      }
    },
    {
      "cell_type": "code",
      "source": [
        "# nomes_propriedades = df.columns.difference(['PROPERTY: Microstructure'])\n",
        "\n",
        "# default_forest_fit = default_forest.fit(\n",
        "#       x_train_normalized,\n",
        "#       y_train_normalized.values.reshape(-1,)\n",
        "#       )\n",
        "\n",
        "# # Treinando o modelo para selecionar as colunas\n",
        "# filter_model = SelectFromModel(default_forest_fit, prefit=True)\n",
        "\n",
        "# #converter o Dataframe de treino e teste e remover colunas desnecessárias\n",
        "# x_train_normalized_filtered = filter_model.transform(x_train_normalized)\n",
        "\n",
        "# x_train_normalized = \\\n",
        "#   pd.DataFrame(x_train_normalized_filtered, \n",
        "#   columns=filter_model.get_feature_names_out(input_features=nomes_propriedades)\n",
        "# )\n",
        "\n",
        "# x_test_normalized_filtered = filter_model.transform(x_test_normalized)\n",
        "\n",
        "# x_test_normalized = \\\n",
        "#   pd.DataFrame( x_test_normalized, \n",
        "#   columns=filter_model.get_feature_names_out(input_features=nomes_propriedades)\n",
        "# )"
      ],
      "metadata": {
        "id": "tZbtmAtB2fWI"
      },
      "execution_count": null,
      "outputs": []
    },
    {
      "cell_type": "code",
      "source": [
        "filter_model.get_feature_names_out(input_features=nomes_propriedades)"
      ],
      "metadata": {
        "id": "uJOM82AR29wN"
      },
      "execution_count": null,
      "outputs": []
    },
    {
      "cell_type": "markdown",
      "metadata": {
        "id": "fQL6gPZRELeE"
      },
      "source": [
        "### 6.1 Verificando influência da normalização no conjunto de dados"
      ]
    },
    {
      "cell_type": "markdown",
      "source": [
        ""
      ],
      "metadata": {
        "id": "HQC1gypwmWdu"
      }
    },
    {
      "cell_type": "code",
      "execution_count": null,
      "metadata": {
        "id": "6LQ8OxW-EK7_"
      },
      "outputs": [],
      "source": [
        "microstructure_pred_droped_duplicates_normalized = cross_val_predict(\n",
        "    default_forest, \n",
        "    x_train_normalized, \n",
        "    y_train_normalized.values.reshape(-1,), \n",
        "    cv=k_folds\n",
        "  )\n",
        "\n",
        "microstructure_confusion_matrix_droped_duplicates_normalized = \\\n",
        "  multilabel_confusion_matrix(\n",
        "      y_train_normalized, \n",
        "      microstructure_pred_droped_duplicates_normalized\n",
        "  )\n",
        "\n",
        "clf_report_droped_duplicates_normalized = classification_report(\n",
        "    y_train_normalized, \n",
        "    microstructure_pred_droped_duplicates_normalized,\n",
        "    output_dict=True\n",
        "  )\n",
        "\n",
        "f1_scores = []\n",
        "for i in clf_report_droped_duplicates_normalized:\n",
        "  if is_float(i):\n",
        "    f1_scores.append(clf_report_droped_duplicates_normalized[i]['f1-score'])\n",
        "print('media f1 scores: ',mean(f1_scores))\n",
        "\n",
        "\n",
        "# transform column index number to microstructure\n",
        "clf_report_droped_duplicates_normalized = {categorical_key(k):v for (k,v) in clf_report_droped_duplicates_normalized.items()}\n",
        "\n",
        "df_classification_report_droped_duplicates_normalized = pd.DataFrame(\n",
        "    clf_report_droped_duplicates_normalized\n",
        "  ).transpose()\n",
        "\n",
        "# df_classification_report.index.names = ['microstructure']\n",
        "\n",
        "cm_microstructure_droped_duplicates_normalized = confusion_matrix(\n",
        "      y_train_normalized.values.reshape(-1,), \n",
        "      microstructure_pred_droped_duplicates_normalized\n",
        "  )"
      ]
    },
    {
      "cell_type": "code",
      "execution_count": null,
      "metadata": {
        "id": "Mti61UhZHS5d"
      },
      "outputs": [],
      "source": [
        "# media f1 scores:  0.5394325700973225\n",
        "# media f1 scores norm :  0.5376535036701573"
      ]
    },
    {
      "cell_type": "markdown",
      "metadata": {
        "id": "ErbylX2knN-o"
      },
      "source": [
        "### 6.2 Dados não normalizados\n",
        "- relatório com métricas\n",
        "- Matriz de confusão"
      ]
    },
    {
      "cell_type": "code",
      "execution_count": null,
      "metadata": {
        "id": "oYr2dT_XnNmr"
      },
      "outputs": [],
      "source": [
        "# print('\\n relatorio de dados não normalizados', \n",
        "#       properties_droped_duplicates.shape)\n",
        "# print('\\n', df_classification_report_droped_duplicates, '\\n')\n",
        "# # make_confusion_matrix(confusion_matrix_microstructure_droped_duplicates, \n",
        "# #                       figsize=(10,8), \n",
        "# #                       categories=microstructures,\n",
        "# #                       cmap='Reds',\n",
        "# #                       title='Dados não normalizados')\n",
        "\n",
        "# cm_analysis(microstructure_droped_duplicates, \n",
        "#     microstructure_pred_droped_duplicates, 'random forest', [0.0,1.0,2.0,3.0,4.0,5.0,6.0], microstructures, \n",
        "#       figsize=(10,8),\n",
        "#         cmap=\"Reds\")\n",
        "# cmd = ConfusionMatrixDisplay\n",
        "# ConfusionMatrixDisplay.from_predictions(microstructure_droped_duplicates,microstructure_pred_droped_duplicates)\n",
        "\n",
        "\n",
        "# -------------------\n",
        "\n",
        "\n",
        "print('\\n relatorio de dados utilizando Feature Selection, n=', \n",
        "      properties_droped_duplicates.shape)\n",
        "print('\\n', df_classification_report_droped_duplicates, '\\n')\n",
        "\n",
        "print('\\n')\n",
        "print(\"{0:30} {1:30} {2}\".format('modelo', \n",
        "                                  'acuracia', \n",
        "                                  'f1 scores'))\n",
        "print(\"{0:30} {1:15} {2:30}\".format(default_forest.__class__.__name__, \n",
        "                                  clf_report_droped_duplicates['accuracy'], \n",
        "                                  mean(f1_scores)))\n",
        "\n",
        "# print( clf_report_droped_duplicates['accuracy'])\n",
        "\n",
        "# print(mean(f1_scores))\n",
        "  \n",
        "# make_confusion_matrix(confusion_matrix_microstructure_droped_duplicates, \n",
        "#                       figsize=(10,8), \n",
        "#                       categories=microstructures,\n",
        "#                       cmap='Reds',\n",
        "#                       title='Dados duplicados removidos')\n",
        "\n",
        "cm_analysis(y_train_droped_duplicates,\n",
        "      microstructure_pred_droped_duplicates, 'feature_selection', [0.0,1.0,2.0,3.0,4.0,5.0,6.0], microstructures, \n",
        "      figsize=(10,8),\n",
        "        cmap=\"Reds\")"
      ]
    },
    {
      "cell_type": "markdown",
      "metadata": {
        "id": "-DR3bwImnZdz"
      },
      "source": [
        "### 6.3 Dados normalizados\n",
        "- relatório com métricas\n",
        "- Matriz de confusão"
      ]
    },
    {
      "cell_type": "code",
      "execution_count": null,
      "metadata": {
        "id": "M4lZTdF7TleJ"
      },
      "outputs": [],
      "source": [
        "print('\\n relatorio de dados normalizados', \n",
        "      x_train_normalized.shape)\n",
        "print('\\n', df_classification_report_droped_duplicates_normalized, '\\n')\n",
        "# make_confusion_matrix(cm_microstructure_droped_duplicates_normalized, \n",
        "#                       figsize=(10,8), \n",
        "#                       categories=microstructures,\n",
        "#                       cmap='Reds',\n",
        "#                       title='Dados normalizados')\n",
        "\n",
        "print('\\n')\n",
        "print(\"{0:30} {1:30} {2}\".format('modelo', \n",
        "                                  'acuracia', \n",
        "                                  'f1 scores'))\n",
        "print(\"{0:30} {1:15} {2:30}\".format(default_forest.__class__.__name__, \n",
        "                                  clf_report_droped_duplicates_normalized['accuracy'], \n",
        "                                  mean(f1_scores)))\n",
        "\n",
        "cm_analysis(y_train_normalized.values.reshape(-1,), \n",
        "      microstructure_pred_droped_duplicates_normalized, 'random forest', [0.0,1.0,2.0,3.0,4.0,5.0,6.0], microstructures, \n",
        "      figsize=(10,8),\n",
        "        cmap=\"Reds\")\n",
        "\n",
        "# ConfusionMatrixDisplay.from_predictions(microstructure_droped_duplicates, microstructure_pred_droped_duplicates_normalized)"
      ]
    },
    {
      "cell_type": "markdown",
      "metadata": {
        "id": "UToGCl2mvNNs"
      },
      "source": [
        "## Conclusão Normalização\n",
        "\n",
        "Ocorreu um leve redução da acurácia, porém com a normalização de dados, foi removida a possibilidade de enviesar os resultados por conta de outliers"
      ]
    },
    {
      "cell_type": "markdown",
      "metadata": {
        "id": "iKVPCnop4-Z7"
      },
      "source": [
        "## 7. Comparando diferentes modelos\n",
        "\n",
        "Nessa etapa são instanciados diversos modelos diferentes, e são comparados quais modelos performam melhor"
      ]
    },
    {
      "cell_type": "code",
      "execution_count": null,
      "metadata": {
        "id": "X4aLliFKIUL3"
      },
      "outputs": [],
      "source": [
        "\n",
        "forest = RandomForestClassifier(random_state=54)\n",
        "mlp = MLPClassifier(random_state=54)\n",
        "knn = KNeighborsClassifier()\n",
        "svm = SVC(random_state=54)\n",
        "\n",
        "models= [\n",
        "  forest, \n",
        "  mlp, \n",
        "  knn, \n",
        "  svm\n",
        "]\n",
        "\n",
        "cm_microstructure_models = {}\n",
        "\n",
        "print(\"{0:30} {1:30} {2}\".format('modelo', \n",
        "                                  'acuracia', \n",
        "                                  'f1 scores'))\n",
        "\n",
        "for model in models:\n",
        "  microstructure_pred = cross_val_predict(\n",
        "      model, \n",
        "      properties_droped_duplicates_normalized,\n",
        "      microstructure_droped_duplicates.values.reshape(-1,),\n",
        "      cv=k_folds \n",
        "    )\n",
        "\n",
        "  microstructure_multilabel_confusion_matrix = \\\n",
        "    multilabel_confusion_matrix(\n",
        "        microstructure_droped_duplicates,\n",
        "        microstructure_pred\n",
        "    )\n",
        "  \n",
        "  microstructure_confusion_matrix = \\\n",
        "    confusion_matrix(\n",
        "        microstructure_droped_duplicates,\n",
        "        microstructure_pred\n",
        "    )\n",
        "\n",
        "  clf_report = classification_report(\n",
        "      microstructure_droped_duplicates,\n",
        "      microstructure_pred,\n",
        "      output_dict=True\n",
        "    )\n",
        "  # print(clf_report.keys())\n",
        "  \n",
        "  f1_scores = []\n",
        "  for i in clf_report:\n",
        "    if is_float(i):\n",
        "      f1_scores.append(clf_report[i]['f1-score'])\n",
        "\n",
        "  # transform column index number to microstructure\n",
        "  clf_report = {categorical_key(k):v for (k,v) in clf_report.items()}\n",
        "\n",
        "  df_classification_report = pd.DataFrame(\n",
        "      clf_report\n",
        "    ).transpose()\n",
        "\n",
        "  model_name = str(model.__class__.__name__)\n",
        "\n",
        "  print('\\n Model: ', model_name)\n",
        "  print(df_classification_report)\n",
        "\n",
        "  # print(\"{0:30} {1:15} {2:30}\".format(model_name, \n",
        "  #                                 clf_report['accuracy'], \n",
        "  #                                 mean(f1_scores)))\n",
        "\n",
        "  cm_microstructure_models[model_name] = \\\n",
        "    microstructure_confusion_matrix\n",
        "\n",
        "  # make_confusion_matrix(microstructure_confusion_matrix, \n",
        "  #                       figsize=(10,8), \n",
        "  #                       categories=microstructures,cmap='Reds',\n",
        "  #                       title=model_name,\n",
        "  #                       count=False,\n",
        "  #                       file_name=model_name)\n",
        "\n",
        "\n",
        "  # cm_analysis(microstructure_droped_duplicates,\n",
        "  #       microstructure_pred, model_name, [0.0,1.0,2.0,3.0,4.0,5.0,6.0], microstructures, \n",
        "  #       figsize=(10,8),\n",
        "  #        cmap=\"Reds\")"
      ]
    },
    {
      "cell_type": "markdown",
      "metadata": {
        "id": "vtWh3rs9-f0O"
      },
      "source": [
        "### 7.1 Avaliação utilizando conjunto de teste\n",
        "\n",
        "Verificar os modelos usando dados de teste "
      ]
    },
    {
      "cell_type": "code",
      "execution_count": null,
      "metadata": {
        "id": "KVUw0GMf-tx9"
      },
      "outputs": [],
      "source": [
        "cm_microstructure_models_hml = {}\n",
        "\n",
        "print(\"{0:30} {1:30} {2}\".format('modelo', \n",
        "                                  'acuracia', \n",
        "                                  'f1 scores'))\n",
        "\n",
        "for model in models:\n",
        "\n",
        "  homolog_fit = model.fit(\n",
        "      x_train_normalized,\n",
        "      y_train_normalized.values.reshape(-1,)\n",
        "      )\n",
        "\n",
        "  caracteristic_homolog_pred = homolog_fit.predict(x_test_normalized)\n",
        "\n",
        "  clf_report_oversampled_homolog = classification_report(\n",
        "      y_test_normalized, \n",
        "      caracteristic_homolog_pred,\n",
        "      output_dict=True\n",
        "    )\n",
        "\n",
        "  microstructure_multilabel_confusion_matrix = \\\n",
        "    multilabel_confusion_matrix(\n",
        "      y_test_normalized, \n",
        "      caracteristic_homolog_pred,\n",
        "    )\n",
        "  \n",
        "  microstructure_confusion_matrix = \\\n",
        "    confusion_matrix(\n",
        "      y_test_normalized, \n",
        "      caracteristic_homolog_pred,\n",
        "    )\n",
        "\n",
        "  clf_report = classification_report(\n",
        "      y_test_normalized, \n",
        "      caracteristic_homolog_pred,\n",
        "      output_dict=True\n",
        "    )\n",
        "\n",
        "  f1_scores = []\n",
        "  for i in clf_report:\n",
        "    if is_float(i):\n",
        "      f1_scores.append(clf_report[i]['f1-score'])\n",
        "\n",
        "  # transform column index number to microstructure\n",
        "  clf_report = {categorical_key(k):v for (k,v) in clf_report.items()}\n",
        "\n",
        "  df_classification_report = pd.DataFrame(\n",
        "      clf_report\n",
        "    ).transpose()\n",
        "\n",
        "  model_name = str(model.__class__.__name__)\n",
        "\n",
        "  print('\\n Model: ', model_name)\n",
        "  # print(df_classification_report)\n",
        "\n",
        "  print('\\n')\n",
        "  print(\"{0:30} {1:15} {2:30}\".format(model_name, \n",
        "                                  clf_report['accuracy'], \n",
        "                                  mean(f1_scores)))\n",
        "\n",
        "  cm_microstructure_models[model_name] = \\\n",
        "    microstructure_confusion_matrix\n",
        "\n",
        "  make_confusion_matrix(microstructure_confusion_matrix, \n",
        "                        figsize=(10,8), \n",
        "                        categories=microstructures,cmap='Reds',\n",
        "                        title=model_name)"
      ]
    },
    {
      "cell_type": "markdown",
      "metadata": {
        "id": "T00NWe8gBCOA"
      },
      "source": [
        "### 7.2 Conclusão avaliação dos modelos\n",
        "\n",
        "Após avaliar o desempenho de diferentes modelos para o conjunto de dados sem duplicados, verificou-se a melhor performance do modelo radom forest, baseado na analise conjunta da acuracia, com f1 score."
      ]
    },
    {
      "cell_type": "code",
      "source": [
        ""
      ],
      "metadata": {
        "id": "C1tSjxazlrp5"
      },
      "execution_count": null,
      "outputs": []
    },
    {
      "cell_type": "markdown",
      "metadata": {
        "id": "7x98ia_vAulU"
      },
      "source": [
        "## 8. Criando sobreamostragem \n",
        "\n",
        "\n",
        "\n",
        "> Essa etapa se baseia na utilização de modelos para gerar novos dados para treinamento do modelo, de forma que possibilite uma dispersão dos dados, tornando o modelo mais genérico e reduzindo o overffiting do ajuste da curva.\n",
        "\n",
        "\n",
        "\n",
        "\n"
      ]
    },
    {
      "cell_type": "code",
      "execution_count": null,
      "metadata": {
        "id": "rs_hf0wg8rO-"
      },
      "outputs": [],
      "source": [
        "samplers = [\n",
        "    SMOTE(random_state=54),\n",
        "    ADASYN(random_state=54),\n",
        "    BorderlineSMOTE(random_state=54),\n",
        "    KMeansSMOTE(random_state=54),\n",
        "    SVMSMOTE(random_state=54),\n",
        "]\n",
        "\n",
        "\n",
        "data_oversampled = {}\n",
        "\n",
        "frequencia_treino = y_train_normalized['PROPERTY: Microstructure'].value_counts()\n",
        "percentual_treino = y_train_normalized['PROPERTY: Microstructure'].value_counts(normalize = True)*100\n",
        "\n",
        "print('distribuição dos dados nao sobreamostrados')\n",
        "dist_freq_qualitativas = pd.DataFrame({'Qtd': frequencia_treino, \n",
        "                                        '(%)': percentual_treino})\n",
        "\n",
        "\n",
        "\n",
        "dist_freq_qualitativas.rename(index = {\n",
        "    0.0: 'CCC', \n",
        "    1.0: 'CCC++',\n",
        "    2.0: 'CCC B2',\n",
        "    3.0: 'CFC',\n",
        "    4.0: 'CFC++',\n",
        "    5.0: 'CFC CCC',\n",
        "    6.0: 'Outros'}, inplace = True)\n",
        "\n",
        "print(dist_freq_qualitativas)\n",
        "\n",
        "for sampler in samplers:\n",
        "\n",
        "  properties_train_oversampled, microstructure_train_oversampled = \\\n",
        "    sampler.fit_resample(x_train_normalized, \n",
        "    y_train_normalized.values.reshape(-1,)\n",
        "    )\n",
        "\n",
        "  properties_train_oversampled = pd.DataFrame(\n",
        "      properties_train_oversampled, \n",
        "      columns=x_train_normalized.columns\n",
        "    )\n",
        "\n",
        "  microstructure_train_oversampled = pd.DataFrame(\n",
        "      microstructure_train_oversampled, \n",
        "      columns=['PROPERTY: Microstructure']\n",
        "    )\n",
        "\n",
        "  data_oversampled[str(sampler.__class__.__name__)] = {\n",
        "      'properties_train_oversampled': properties_train_oversampled,\n",
        "      'microstructure_train_oversampled': microstructure_train_oversampled \n",
        "    }\n",
        "\n",
        "  frequencia_treino = microstructure_train_oversampled['PROPERTY: Microstructure'].value_counts()\n",
        "  percentual_treino = microstructure_train_oversampled['PROPERTY: Microstructure'].value_counts(normalize = True)*100\n",
        "\n",
        "  print(f'distribuição dos dados {str(sampler.__class__.__name__)}')\n",
        "  dist_freq_qualitativas = pd.DataFrame({'Qtd': frequencia_treino, \n",
        "                                         '(%)': percentual_treino})\n",
        "  \n",
        "  \n",
        "  \n",
        "  dist_freq_qualitativas.rename(index = {\n",
        "      0.0: 'CCC', \n",
        "      1.0: 'CCC++',\n",
        "      2.0: 'CCC B2',\n",
        "      3.0: 'CFC',\n",
        "      4.0: 'CFC++',\n",
        "      5.0: 'CFC CCC',\n",
        "      6.0: 'Outros'}, inplace = True)\n",
        "\n",
        "  print(dist_freq_qualitativas)"
      ]
    },
    {
      "cell_type": "code",
      "execution_count": null,
      "metadata": {
        "id": "viEX0fN0O10G"
      },
      "outputs": [],
      "source": [
        "microstructure_train_oversampled.shape"
      ]
    },
    {
      "cell_type": "markdown",
      "metadata": {
        "id": "idQ8B2IwClQP"
      },
      "source": [
        "### 8.1 Verificando o desempenho dos diferentes tipos de sobre amostragem \n",
        "> Através do cross validation, será verificado o comportamento dos diferentes tipos de modelos de sobre amostragem, utilizando apenas o classificador random forest."
      ]
    },
    {
      "cell_type": "code",
      "execution_count": null,
      "metadata": {
        "id": "ZED4Mn-g-oF2"
      },
      "outputs": [],
      "source": [
        "# properties_oversampled, microstructure_oversampled\n",
        "from statistics import mean\n",
        "cm_microstructure_oversampled = {}\n",
        "\n",
        "\n",
        "\n",
        "for oversampled in data_oversampled.keys():\n",
        "  microstructure_pred_oversampled = cross_val_predict(\n",
        "      default_forest, \n",
        "      data_oversampled[oversampled]['properties_train_oversampled'], \n",
        "      data_oversampled[oversampled]['microstructure_train_oversampled'],\n",
        "      cv=k_folds\n",
        "    )\n",
        "\n",
        "  microstructure_multilabel_confusion_matrix_oversampled = \\\n",
        "    multilabel_confusion_matrix(\n",
        "        data_oversampled[oversampled]['microstructure_train_oversampled'], \n",
        "        microstructure_pred_oversampled\n",
        "    )\n",
        "  \n",
        "  microstructure_confusion_matrix_oversampled = \\\n",
        "    confusion_matrix(\n",
        "        data_oversampled[oversampled]['microstructure_train_oversampled'], \n",
        "        microstructure_pred_oversampled\n",
        "    )\n",
        "\n",
        "  clf_report_oversampled = classification_report(\n",
        "      data_oversampled[oversampled]['microstructure_train_oversampled'], \n",
        "      microstructure_pred_oversampled,\n",
        "      output_dict=True\n",
        "    )\n",
        "  \n",
        "  f1_scores = []\n",
        "  for i in clf_report_oversampled:\n",
        "    if is_float(i):\n",
        "      f1_scores.append(clf_report_oversampled[i]['f1-score'])\n",
        "  print('media f1 scores: ',mean(f1_scores))\n",
        "\n",
        "  # transform column index number to microstructure\n",
        "  clf_report_oversampled = {categorical_key(k):v for (k,v) in clf_report_oversampled.items()}\n",
        "\n",
        "  df_classification_report_oversampled = pd.DataFrame(\n",
        "      clf_report_oversampled\n",
        "    ).transpose()\n",
        "\n",
        "  print('Sampler: ',oversampled)\n",
        "  print(df_classification_report_oversampled)\n",
        "\n",
        "  cm_microstructure_oversampled[oversampled] = \\\n",
        "    microstructure_confusion_matrix_oversampled\n",
        "\n",
        "  # make_confusion_matrix(microstructure_confusion_matrix_oversampled, \n",
        "  #                       figsize=(7,7), \n",
        "  #                       categories=microstructures,cmap='Reds',\n",
        "  #                       title=oversampled)\n",
        "\n",
        "  print('\\n')"
      ]
    },
    {
      "cell_type": "code",
      "execution_count": null,
      "metadata": {
        "id": "VtM8ExHJiiGs"
      },
      "outputs": [],
      "source": [
        "default_forest = RandomForestClassifier()\n",
        "\n",
        "cm_microstructure_oversampled_homolog = {}\n",
        "\n",
        "for oversampled in data_oversampled.keys():\n",
        "  \n",
        "\n",
        "  homolog_fit = default_forest.fit(\n",
        "      data_oversampled[oversampled]['properties_train_oversampled'], \n",
        "      data_oversampled[oversampled]['microstructure_train_oversampled']\n",
        "      )\n",
        "\n",
        "# y_train_normalized\n",
        "  caracteristic_homolog_pred = homolog_fit.predict(x_test_normalized)\n",
        "\n",
        "  clf_report_oversampled_homolog = classification_report(\n",
        "      y_test_normalized, \n",
        "      caracteristic_homolog_pred,\n",
        "      output_dict=True\n",
        "    )\n",
        "\n",
        "  f1_scores = []\n",
        "  for i in clf_report_oversampled_homolog:\n",
        "    if is_float(i):\n",
        "      f1_scores.append(clf_report_oversampled_homolog[i]['f1-score'])\n",
        "  print('media f1 scores: ',mean(f1_scores))\n",
        "\n",
        "  # transform column index number to microstructure\n",
        "  clf_report_oversampled_homolog = {categorical_key(k):v for (k,v) in clf_report_oversampled_homolog.items()}\n",
        "\n",
        "  df_classification_report_oversampled_homolog = pd.DataFrame(\n",
        "      clf_report_oversampled_homolog\n",
        "    ).transpose()\n",
        "\n",
        "  print('Sampler: ',oversampled)\n",
        "  print(df_classification_report_oversampled_homolog)\n",
        "\n",
        "  cm_microstructure_oversampled_homolog[oversampled] = confusion_matrix(\n",
        "      y_test_droped_duplicates, \n",
        "      caracteristic_homolog_pred,\n",
        "  )\n",
        "\n",
        "  # make_confusion_matrix(cm_microstructure_oversampled_homolog[oversampled], \n",
        "  #                       figsize=(7,7), \n",
        "  #                       categories=microstructures,cmap='Reds',\n",
        "  #                       title=oversampled)\n",
        "\n",
        "  print('\\n')"
      ]
    },
    {
      "cell_type": "markdown",
      "metadata": {
        "id": "5h4Jb3UorBSK"
      },
      "source": [
        "## 8.2 Validando modelos e sobreamostragens pela acurácia e média de F1 scores"
      ]
    },
    {
      "cell_type": "markdown",
      "source": [
        "### 8.2.1 Avaliando modelos nos diferentes tipos de sobreamostragem com cross-validation"
      ],
      "metadata": {
        "id": "pyBI_tkBd-Hj"
      }
    },
    {
      "cell_type": "code",
      "execution_count": null,
      "metadata": {
        "id": "74q3X_M8rAbT"
      },
      "outputs": [],
      "source": [
        "# properties_oversampled, microstructure_oversampled\n",
        "print('dados  sobreamostrados Cross validation')\n",
        "\n",
        "cm_microstructure_oversampled = {}\n",
        "\n",
        "models = [models[0]]\n",
        "\n",
        "for model in models:\n",
        "\n",
        "  model_name = str(model.__class__.__name__)\n",
        "  print('\\n')\n",
        "  print(\"{0:30} {1:30} {2}\".format(model_name, \n",
        "                                  'acuracia', \n",
        "                                  'f1 scores'))\n",
        "\n",
        "  for oversampled in data_oversampled.keys():\n",
        "  \n",
        "    \n",
        "    microstructure_pred_oversampled = cross_val_predict(\n",
        "        model, \n",
        "        data_oversampled[oversampled]['properties_train_oversampled'], \n",
        "        data_oversampled[oversampled]['microstructure_train_oversampled'],\n",
        "        cv=15\n",
        "      )\n",
        "\n",
        "    microstructure_multilabel_confusion_matrix_oversampled = \\\n",
        "      multilabel_confusion_matrix(\n",
        "          data_oversampled[oversampled]['microstructure_train_oversampled'], \n",
        "          microstructure_pred_oversampled\n",
        "      )\n",
        "    \n",
        "    microstructure_confusion_matrix_oversampled = \\\n",
        "      confusion_matrix(\n",
        "          data_oversampled[oversampled]['microstructure_train_oversampled'], \n",
        "          microstructure_pred_oversampled\n",
        "      )\n",
        "\n",
        "    clf_report_oversampled = classification_report(\n",
        "        data_oversampled[oversampled]['microstructure_train_oversampled'], \n",
        "        microstructure_pred_oversampled,\n",
        "        output_dict=True\n",
        "      )\n",
        "    \n",
        "    f1_scores = []\n",
        "    for i in clf_report_oversampled:\n",
        "      if is_float(i):\n",
        "        f1_scores.append(clf_report_oversampled[i]['f1-score'])\n",
        "\n",
        "    # transform column index number to microstructure\n",
        "    clf_report_oversampled = {categorical_key(k):v for (k,v) in clf_report_oversampled.items()}\n",
        "\n",
        "    df_classification_report_oversampled = pd.DataFrame(\n",
        "        clf_report_oversampled\n",
        "      ).transpose()\n",
        "\n",
        "    print(\"{0:30} {1:15} {2:30}\".format(oversampled, \n",
        "                                  clf_report_oversampled['accuracy'], \n",
        "                                  mean(f1_scores)))\n",
        "\n",
        "    cm_microstructure_oversampled[oversampled] = \\\n",
        "      microstructure_confusion_matrix_oversampled\n",
        "\n",
        "    # make_confusion_matrix(microstructure_confusion_matrix_oversampled, \n",
        "    #                       figsize=(7,7), \n",
        "    #                       categories=microstructures,cmap='Reds',\n",
        "    #                       title=f'{oversampled} - {model_name}')\n",
        "\n",
        "    cm_analysis(data_oversampled[oversampled]['microstructure_train_oversampled'], \n",
        "          microstructure_pred_oversampled, oversampled, [0.0,1.0,2.0,3.0,4.0,5.0,6.0], microstructures, \n",
        "      figsize=(10,8),\n",
        "        cmap=\"Reds\")\n"
      ]
    },
    {
      "cell_type": "markdown",
      "source": [
        "### 8.2.2 Validando diferentes modelos com diferentes sobreamostragem com os dados de teste"
      ],
      "metadata": {
        "id": "dzrSfuWdeKPg"
      }
    },
    {
      "cell_type": "code",
      "execution_count": null,
      "metadata": {
        "id": "q6u1BNbFrxld"
      },
      "outputs": [],
      "source": [
        "# default_forest = RandomForestClassifier()\n",
        "print('validacao dados sobreamostrados')\n",
        "\n",
        "cm_microstructure_oversampled_homolog = {}\n",
        "\n",
        "for model in models:\n",
        "\n",
        "  model_name = str(model.__class__.__name__)\n",
        "  print('\\n')\n",
        "  print(\"{0:30} {1:30} {2}\".format(model_name, \n",
        "                                  'acuracia', \n",
        "                                  'f1 scores'))\n",
        "\n",
        "  for oversampled in data_oversampled.keys():\n",
        "\n",
        "    homolog_fit = model.fit(\n",
        "        data_oversampled[oversampled]['properties_train_oversampled'], \n",
        "        data_oversampled[oversampled]['microstructure_train_oversampled']\n",
        "        )\n",
        "\n",
        "    caracteristic_homolog_pred = homolog_fit.predict(x_test_normalized)\n",
        "\n",
        "    clf_report_oversampled_homolog = classification_report(\n",
        "        y_test_normalized, \n",
        "        caracteristic_homolog_pred,\n",
        "        output_dict=True\n",
        "      )\n",
        "\n",
        "    f1_scores = []\n",
        "    for i in clf_report_oversampled_homolog:\n",
        "      if is_float(i):\n",
        "        f1_scores.append(clf_report_oversampled_homolog[i]['f1-score'])\n",
        "\n",
        "    # transform column index number to microstructure\n",
        "    clf_report_oversampled_homolog = {categorical_key(k):v for (k,v) in clf_report_oversampled_homolog.items()}\n",
        "\n",
        "    df_classification_report_oversampled_homolog = pd.DataFrame(\n",
        "        clf_report_oversampled_homolog\n",
        "      ).transpose()\n",
        "\n",
        "\n",
        "    print(\"{0:30} {1:15} {2:30}\".format(oversampled, \n",
        "                                  clf_report_oversampled_homolog['accuracy'], \n",
        "                                  mean(f1_scores)))\n",
        "\n",
        "    cm_microstructure_oversampled_homolog[oversampled] = confusion_matrix(\n",
        "        y_test_droped_duplicates, \n",
        "        caracteristic_homolog_pred,\n",
        "    )\n",
        "\n",
        "    # make_confusion_matrix(cm_microstructure_oversampled_homolog[oversampled], \n",
        "    #                       figsize=(7,7), \n",
        "    #                       categories=microstructures,cmap='Reds',\n",
        "    #                       title=f'{oversampled} - {model_name}')\n",
        "    "
      ]
    },
    {
      "cell_type": "markdown",
      "metadata": {
        "id": "NvsxKTduz0zR"
      },
      "source": [
        "### 8.2.3 Conclusão comparação de modelos e sobreamostragens\n",
        "\n",
        "Após a avaliação dos modelos em conjunto com o tipo de sobreamostragem, ficou claro que o modelo Random Forest em conjunto com a sobreamostragem BorderlineSMOTE  apresentaram os melhores resultados.\n",
        "\n",
        "Sendo assim, a próxima etapa será analizar a melhor combinação de hiperparâmetros."
      ]
    },
    {
      "cell_type": "code",
      "source": [
        "best_oversampled = 'BorderlineSMOTE'"
      ],
      "metadata": {
        "id": "Crsl1p77iOZ7"
      },
      "execution_count": null,
      "outputs": []
    },
    {
      "cell_type": "markdown",
      "metadata": {
        "id": "PzuFiYZI5KVK"
      },
      "source": [
        "## 9 Avaliando hiperparâmetros dos modelos\n",
        "\n",
        "Nesta etapa, serão avaliados os melhores hiperparâmetros para o modelo RandoForest, considerando os dados sobre amostrados, e os dados originais sem duplicados e normalizados."
      ]
    },
    {
      "cell_type": "markdown",
      "metadata": {
        "id": "S3DCdnO1EVk0"
      },
      "source": [
        "### 9.2 Otimizando hiperparâmetros dos dados sobreamostrados"
      ]
    },
    {
      "cell_type": "code",
      "execution_count": null,
      "metadata": {
        "id": "wAYdeq1jo5an"
      },
      "outputs": [],
      "source": [
        "parameters = {\n",
        "    'criterion': ['entropy', 'gini'],\n",
        "    'n_estimators': [21,22,23,24,190,195,200],\n",
        "    'max_depth': [6,7,9,11,12,13,14,15],\n",
        "    'max_features': ['auto']\n",
        "} \n",
        "\n",
        "# oversamplers = ['SMOTE', 'ADASYN', 'BorderlineSMOTE', 'KMeansSMOTE', 'SVMSMOTE']\n",
        "\n",
        "oversampled = 'BorderlineSMOTE'\n",
        "\n",
        "regressor = GridSearchCV(RandomForestClassifier(random_state=54), parameters, verbose=1,cv=10,n_jobs=-1) \n",
        "\n",
        "# for oversampled in oversamplers:\n",
        "\n",
        "regressor.fit(data_oversampled[best_oversampled]['properties_train_oversampled'].to_numpy(), \n",
        "      data_oversampled[best_oversampled]['microstructure_train_oversampled'].to_numpy()) \n",
        "\n",
        "  # print(oversampled)\n",
        "print(regressor.best_params_)\n",
        "# regressor.best_params_"
      ]
    },
    {
      "cell_type": "markdown",
      "metadata": {
        "id": "V47RyJnppcWt"
      },
      "source": [
        "Histórico de busca por melhores parametros"
      ]
    },
    {
      "cell_type": "code",
      "execution_count": null,
      "metadata": {
        "id": "j4oDpHGK5u9C"
      },
      "outputs": [],
      "source": [
        "# Fitting 10 folds for each of 40 candidates, totalling 400 fits\n",
        "# GridSearchCV(cv=10, estimator=RandomForestClassifier(random_state=54),\n",
        "#              n_jobs=-1,\n",
        "#              param_grid={'criterion': ['entropy', 'gini'],\n",
        "#                          'max_depth': [11, 12, 13, 14, 15],\n",
        "#                          'max_features': ['auto'],\n",
        "#                          'n_estimators': [21, 22, 23, 24]},\n",
        "#              verbose=1)\n",
        "\n",
        "# Fitting 10 folds for each of 24 candidates, totalling 240 fits\n",
        "# GridSearchCV(cv=10, estimator=RandomForestClassifier(random_state=54),\n",
        "#              n_jobs=-1,\n",
        "#              param_grid={'criterion': ['entropy', 'gini'],\n",
        "#                          'max_depth': [11, 12, 13, 15],\n",
        "#                          'max_features': ['auto'],\n",
        "#                          'n_estimators': [20, 23, 24]},\n",
        "#              verbose=1)\n",
        "\n",
        "# Fitting 10 folds for each of 24 candidates, totalling 240 fits\n",
        "# GridSearchCV(cv=10, estimator=RandomForestClassifier(random_state=54),\n",
        "#              n_jobs=-1,\n",
        "#              param_grid={'criterion': ['entropy', 'gini'],\n",
        "#                          'max_depth': [12, 15, 17], 'max_features': ['auto'],\n",
        "#                          'n_estimators': [12, 15, 20, 23]},\n",
        "#              verbose=1)\n",
        "\n",
        "# Fitting 10 folds for each of 70 candidates, totalling 700 fits\n",
        "# GridSearchCV(cv=10, estimator=RandomForestClassifier(random_state=54),\n",
        "#              n_jobs=-1,\n",
        "#              param_grid={'criterion': ['entropy', 'gini'],\n",
        "#                          'max_depth': [6, 10, 12, 15, 18],\n",
        "#                          'max_features': ['auto'],\n",
        "#                          'n_estimators': [1, 10, 20, 25, 30, 50, 60]},\n",
        "#              verbose=1)\n"
      ]
    },
    {
      "cell_type": "markdown",
      "metadata": {
        "id": "tZ6Ae8JXpxxc"
      },
      "source": [
        "Uma vez que os hiperparâmetros foram otimizados, é realizada a etapa para verificar o comportamento do modelo em conjuntos de dados simulados com composições variaveis"
      ]
    },
    {
      "cell_type": "markdown",
      "source": [
        "### 9.2.1 Avaliando hiperparâmetros através do cross validation "
      ],
      "metadata": {
        "id": "WV2WTHGPhkOG"
      }
    },
    {
      "cell_type": "code",
      "source": [
        "model_hyperparams_adjusted =  RandomForestClassifier(\n",
        "    max_depth=15,\n",
        "    random_state=54, \n",
        "    criterion='entropy', \n",
        "    max_features='auto',\n",
        "    n_estimators = 22,\n",
        "    )\n",
        "\n",
        "\n",
        "# properties_oversampled, microstructure_oversampled\n",
        "print('dados  sobreamostrados Cross validation (hiperparametros)')\n",
        "\n",
        "cm_microstructure_oversampled = {}\n",
        "\n",
        "models = [models[0]]\n",
        "\n",
        "for model in [model_hyperparams_adjusted]:\n",
        "\n",
        "  model_name = str(model.__class__.__name__)\n",
        "  print('\\n')\n",
        "  print(\"{0:30} {1:30} {2}\".format(model_name, \n",
        "                                  'acuracia', \n",
        "                                  'f1 scores'))\n",
        "\n",
        "  for oversampled in [best_oversampled]:\n",
        "  \n",
        "    \n",
        "    microstructure_pred_oversampled = cross_val_predict(\n",
        "        model, \n",
        "        data_oversampled[oversampled]['properties_train_oversampled'], \n",
        "        data_oversampled[oversampled]['microstructure_train_oversampled'],\n",
        "        cv=15\n",
        "      )\n",
        "\n",
        "    microstructure_multilabel_confusion_matrix_oversampled = \\\n",
        "      multilabel_confusion_matrix(\n",
        "          data_oversampled[oversampled]['microstructure_train_oversampled'], \n",
        "          microstructure_pred_oversampled\n",
        "      )\n",
        "    \n",
        "    microstructure_confusion_matrix_oversampled = \\\n",
        "      confusion_matrix(\n",
        "          data_oversampled[oversampled]['microstructure_train_oversampled'], \n",
        "          microstructure_pred_oversampled\n",
        "      )\n",
        "\n",
        "    clf_report_oversampled = classification_report(\n",
        "        data_oversampled[oversampled]['microstructure_train_oversampled'], \n",
        "        microstructure_pred_oversampled,\n",
        "        output_dict=True\n",
        "      )\n",
        "    \n",
        "    f1_scores = []\n",
        "    for i in clf_report_oversampled:\n",
        "      if is_float(i):\n",
        "        f1_scores.append(clf_report_oversampled[i]['f1-score'])\n",
        "\n",
        "    # transform column index number to microstructure\n",
        "    clf_report_oversampled = {categorical_key(k):v for (k,v) in clf_report_oversampled.items()}\n",
        "\n",
        "    df_classification_report_oversampled = pd.DataFrame(\n",
        "        clf_report_oversampled\n",
        "      ).transpose()\n",
        "\n",
        "    print(\"{0:30} {1:15} {2:30}\".format(oversampled, \n",
        "                                  clf_report_oversampled['accuracy'], \n",
        "                                  mean(f1_scores)))\n",
        "\n",
        "    cm_microstructure_oversampled[oversampled] = \\\n",
        "      microstructure_confusion_matrix_oversampled\n",
        "\n",
        "    # make_confusion_matrix(microstructure_confusion_matrix_oversampled, \n",
        "    #                       figsize=(7,7), \n",
        "    #                       categories=microstructures,cmap='Reds',\n",
        "    #                       title=f'{oversampled} - {model_name}')\n",
        "\n",
        "    cm_analysis(data_oversampled[oversampled]['microstructure_train_oversampled'], \n",
        "          microstructure_pred_oversampled, oversampled, [0.0,1.0,2.0,3.0,4.0,5.0,6.0], microstructures, \n",
        "      figsize=(8,8),\n",
        "        cmap=\"Reds\")\n"
      ],
      "metadata": {
        "id": "1N1tgqieha5b"
      },
      "execution_count": null,
      "outputs": []
    },
    {
      "cell_type": "markdown",
      "source": [
        "### 9.2.2 Validando hiperparâmetros do modelo com dados sobreamostrados usando dados de teste"
      ],
      "metadata": {
        "id": "4c70JMr6inOR"
      }
    },
    {
      "cell_type": "code",
      "source": [
        ""
      ],
      "metadata": {
        "id": "3_oTjgzxi3Nh"
      },
      "execution_count": null,
      "outputs": []
    },
    {
      "cell_type": "code",
      "source": [
        "# properties_oversampled, microstructure_oversampled\n",
        "print('dados  sobreamostrados Cross validation')\n",
        "\n",
        "cm_microstructure_oversampled = {}\n",
        "\n",
        "models = [models[0]]\n",
        "\n",
        "for model in models:\n",
        "\n",
        "  model_name = str(model.__class__.__name__)\n",
        "  print('\\n')\n",
        "  print(\"{0:30} {1:30} {2}\".format(model_name, \n",
        "                                  'acuracia', \n",
        "                                  'f1 scores'))\n",
        "\n",
        "  for oversampled in data_oversampled.keys():\n",
        "  \n",
        "    \n",
        "    microstructure_pred_oversampled = cross_val_predict(\n",
        "        model, \n",
        "        data_oversampled[oversampled]['properties_train_oversampled'], \n",
        "        data_oversampled[oversampled]['microstructure_train_oversampled'],\n",
        "        cv=15\n",
        "      )\n",
        "\n",
        "    microstructure_multilabel_confusion_matrix_oversampled = \\\n",
        "      multilabel_confusion_matrix(\n",
        "          data_oversampled[oversampled]['microstructure_train_oversampled'], \n",
        "          microstructure_pred_oversampled\n",
        "      )\n",
        "    \n",
        "    microstructure_confusion_matrix_oversampled = \\\n",
        "      confusion_matrix(\n",
        "          data_oversampled[oversampled]['microstructure_train_oversampled'], \n",
        "          microstructure_pred_oversampled\n",
        "      )\n",
        "\n",
        "    clf_report_oversampled = classification_report(\n",
        "        data_oversampled[oversampled]['microstructure_train_oversampled'], \n",
        "        microstructure_pred_oversampled,\n",
        "        output_dict=True\n",
        "      )\n",
        "    \n",
        "    f1_scores = []\n",
        "    for i in clf_report_oversampled:\n",
        "      if is_float(i):\n",
        "        f1_scores.append(clf_report_oversampled[i]['f1-score'])\n",
        "\n",
        "    # transform column index number to microstructure\n",
        "    clf_report_oversampled = {categorical_key(k):v for (k,v) in clf_report_oversampled.items()}\n",
        "\n",
        "    df_classification_report_oversampled = pd.DataFrame(\n",
        "        clf_report_oversampled\n",
        "      ).transpose()\n",
        "\n",
        "    print(\"{0:30} {1:15} {2:30}\".format(oversampled, \n",
        "                                  clf_report_oversampled['accuracy'], \n",
        "                                  mean(f1_scores)))\n",
        "\n",
        "    cm_microstructure_oversampled[oversampled] = \\\n",
        "      microstructure_confusion_matrix_oversampled\n",
        "\n",
        "    # make_confusion_matrix(microstructure_confusion_matrix_oversampled, \n",
        "    #                       figsize=(7,7), \n",
        "    #                       categories=microstructures,cmap='Reds',\n",
        "    #                       title=f'{oversampled} - {model_name}')\n",
        "\n",
        "    cm_analysis(data_oversampled[oversampled]['microstructure_train_oversampled'], \n",
        "          microstructure_pred_oversampled, oversampled, [0.0,1.0,2.0,3.0,4.0,5.0,6.0], microstructures, \n",
        "      figsize=(8,8),\n",
        "        cmap=\"Reds\")\n"
      ],
      "metadata": {
        "id": "B-JzJpUchW-t"
      },
      "execution_count": null,
      "outputs": []
    },
    {
      "cell_type": "markdown",
      "metadata": {
        "id": "Q77mV8FkBAg_"
      },
      "source": [
        "### 9.3 Avaliação dos hiperparâmetros nos dados sem sobreamostragem"
      ]
    },
    {
      "cell_type": "code",
      "execution_count": null,
      "metadata": {
        "id": "O4mLKC_fE-zG"
      },
      "outputs": [],
      "source": [
        "parameters = {\n",
        "    'max_depth': [13,14,15],\n",
        "    'criterion': ['gini'],\n",
        "    'n_estimators': [199,200],\n",
        "    \n",
        "    'max_features': ['auto']\n",
        "}\n",
        "\n",
        "\n",
        "# oversamplers = ['SMOTE', 'ADASYN', 'BorderlineSMOTE', 'KMeansSMOTE', 'SVMSMOTE']\n",
        "\n",
        "oversampled = 'KMeansSMOTE'\n",
        "\n",
        "regressor = GridSearchCV(RandomForestClassifier(random_state=54), parameters, verbose=1,cv=10,n_jobs=-1) \n",
        "\n",
        "# for oversampled in oversamplers:\n",
        "\n",
        "regressor.fit(properties_droped_duplicates_normalized.to_numpy(), \n",
        "      microstructure_droped_duplicates) \n",
        "\n",
        "\n",
        "# ajustar hiperparametros considerando dados do conjunto de teste\n",
        "\n",
        "\n",
        "\n",
        "  # print(oversampled)\n",
        "print(regressor.best_params_)"
      ]
    },
    {
      "cell_type": "code",
      "source": [
        "microstructure_droped_duplicates.shape"
      ],
      "metadata": {
        "id": "DwNJRumaP2_s"
      },
      "execution_count": null,
      "outputs": []
    },
    {
      "cell_type": "code",
      "execution_count": null,
      "metadata": {
        "id": "dzcVJPKypxGH"
      },
      "outputs": [],
      "source": [
        "model_hyperparams_adjusted =  RandomForestClassifier(\n",
        "    max_depth=13,\n",
        "    random_state=54, \n",
        "    criterion='gini', \n",
        "    max_features='auto',\n",
        "    n_estimators = 195,\n",
        "    )\n",
        "\n",
        "\n",
        "# model_hyperparams_adjusted =  RandomForestClassifier(\n",
        "#     max_depth=100,\n",
        "#     criterion='entropy',\n",
        "#     random_state=54\n",
        "#     )\n",
        "\n",
        "microstructure_pred = cross_val_predict(\n",
        "    model_hyperparams_adjusted, \n",
        "    properties_droped_duplicates_normalized,\n",
        "    microstructure_droped_duplicates.values.reshape(-1,),\n",
        "    cv=k_folds \n",
        "  )\n",
        "\n",
        "microstructure_multilabel_confusion_matrix = \\\n",
        "  multilabel_confusion_matrix(\n",
        "      microstructure_droped_duplicates,\n",
        "      microstructure_pred\n",
        "  )\n",
        "\n",
        "microstructure_confusion_matrix = \\\n",
        "  confusion_matrix(\n",
        "      microstructure_droped_duplicates,\n",
        "      microstructure_pred\n",
        "  )\n",
        "\n",
        "clf_report = classification_report(\n",
        "    microstructure_droped_duplicates,\n",
        "    microstructure_pred,\n",
        "    output_dict=True\n",
        "  )\n",
        "\n",
        "# transform column index number to microstructure\n",
        "clf_report = {categorical_key(k):v for (k,v) in clf_report.items()}\n",
        "\n",
        "df_classification_report = pd.DataFrame(\n",
        "    clf_report\n",
        "  ).transpose()\n",
        "\n",
        "model_name = str(model_hyperparams_adjusted.__class__.__name__)\n",
        "\n",
        "print('\\n Model: ', model_name)\n",
        "print(df_classification_report)\n",
        "\n",
        "# cm_microstructure_models[model_name] = \\\n",
        "#   microstructure_confusion_matrix\n",
        "\n",
        "# make_confusion_matrix(microstructure_confusion_matrix, \n",
        "#                       figsize=(10,8), \n",
        "#                       categories=microstructures,cmap='Reds',\n",
        "#                       title=model_name)\n",
        "\n",
        "# cm_analysis(microstructure_droped_duplicates,\n",
        "#       microstructure_pred, model_name, [0.0,1.0,2.0,3.0,4.0,5.0,6.0], microstructures, \n",
        "#       figsize=(8,7),\n",
        "#         cmap=\"Reds\")"
      ]
    },
    {
      "cell_type": "code",
      "execution_count": null,
      "metadata": {
        "id": "7LGI8urQblbR"
      },
      "outputs": [],
      "source": [
        "#  Model:  RandomForestClassifier\n",
        "#               precision    recall  f1-score     support\n",
        "# BCC            0.691667  0.775701  0.731278  107.000000\n",
        "# BCC ++         0.555556  0.378788  0.450450   66.000000\n",
        "# BCC B2         0.473684  0.580645  0.521739   31.000000\n",
        "# FCC            0.493333  0.596774  0.540146   62.000000\n",
        "# FCC ++         0.595238  0.471698  0.526316   53.000000\n",
        "# FCC BCC        0.560976  0.547619  0.554217   42.000000\n",
        "# OTHER          0.380952  0.380952  0.380952   21.000000\n",
        "# accuracy       0.573298  0.573298  0.573298    0.573298\n",
        "# macro avg      0.535915  0.533168  0.529300  382.000000\n",
        "# weighted avg   0.573441  0.573298  0.567569  382.000000"
      ]
    },
    {
      "cell_type": "code",
      "execution_count": null,
      "metadata": {
        "id": "trn63m2Kq7G8"
      },
      "outputs": [],
      "source": [
        "simple_forest = RandomForestClassifier(\n",
        "    max_depth=13,\n",
        "    random_state=54, \n",
        "    criterion='gini', \n",
        "    max_features='auto',\n",
        "    n_estimators = 195,\n",
        "    )\n",
        "\n",
        "microstructure_pred_droped_duplicates_normalized = cross_val_predict(\n",
        "    simple_forest, \n",
        "    properties_droped_duplicates_normalized, \n",
        "    microstructure_droped_duplicates.values.reshape(-1,), \n",
        "    cv=k_folds\n",
        "  )\n",
        "\n",
        "microstructure_confusion_matrix_droped_duplicates_normalized = \\\n",
        "  multilabel_confusion_matrix(\n",
        "      microstructure_droped_duplicates, \n",
        "      microstructure_pred_droped_duplicates_normalized\n",
        "  )\n",
        "\n",
        "clf_report_droped_duplicates_normalized = classification_report(\n",
        "    microstructure_droped_duplicates, \n",
        "    microstructure_pred_droped_duplicates_normalized,\n",
        "    output_dict=True\n",
        "  )\n",
        "\n",
        "# transform column index number to microstructure\n",
        "clf_report_droped_duplicates_normalized = {categorical_key(k):v for (k,v) in clf_report_droped_duplicates_normalized.items()}\n",
        "\n",
        "df_classification_report_droped_duplicates_normalized = pd.DataFrame(\n",
        "    clf_report_droped_duplicates_normalized\n",
        "  ).transpose()\n",
        "\n",
        "# df_classification_report.index.names = ['microstructure']\n",
        "\n",
        "cm_microstructure_droped_duplicates_normalized = confusion_matrix(\n",
        "      microstructure_droped_duplicates.values.reshape(-1,), \n",
        "      microstructure_pred_droped_duplicates_normalized\n",
        "  )\n",
        "\n",
        "\n",
        "print('\\n relatorio de dados normalizados', \n",
        "      properties_droped_duplicates_normalized.shape)\n",
        "print('\\n', df_classification_report_droped_duplicates_normalized, '\\n')\n",
        "make_confusion_matrix(cm_microstructure_droped_duplicates_normalized, \n",
        "                      figsize=(10,8), \n",
        "                      categories=microstructures,\n",
        "                      cmap='Reds',\n",
        "                      title='Dados normalizados')"
      ]
    },
    {
      "cell_type": "markdown",
      "source": [
        "## Resultados dos hiperparâmetros otimizados validando com cross validation do conjunto de treino"
      ],
      "metadata": {
        "id": "3sPzGs2-icOg"
      }
    },
    {
      "cell_type": "code",
      "source": [
        "# optimized_forest = RandomForestClassifier(\n",
        "#     random_state=54,\n",
        "#     criterion='gini', max_depth=13, max_features='auto', n_estimators=200 )\n",
        "\n",
        "optimized_forest = RandomForestClassifier(\n",
        "    max_depth=13,\n",
        "    random_state=54, \n",
        "    criterion='gini', \n",
        "    max_features='auto',\n",
        "    n_estimators = 195,\n",
        "    )\n",
        "\n",
        "oversampled='KMeansSMOTE'\n",
        "\n",
        "\n",
        "model_name = str(optimized_forest.__class__.__name__)\n",
        "\n",
        "microstructure_pred_oversampled = cross_val_predict(\n",
        "    optimized_forest, \n",
        "    data_oversampled[oversampled]['properties_train_oversampled'], \n",
        "    data_oversampled[oversampled]['microstructure_train_oversampled'],\n",
        "    cv=10\n",
        "  )\n",
        "\n",
        "microstructure_confusion_matrix_oversampled = \\\n",
        "  confusion_matrix(\n",
        "      data_oversampled[oversampled]['microstructure_train_oversampled'], \n",
        "      microstructure_pred_oversampled\n",
        "  )\n",
        "\n",
        "clf_report_oversampled = classification_report(\n",
        "    data_oversampled[oversampled]['microstructure_train_oversampled'], \n",
        "    microstructure_pred_oversampled,\n",
        "    output_dict=True\n",
        "  )\n",
        "\n",
        "f1_scores = []\n",
        "for i in clf_report_oversampled:\n",
        "  if is_float(i):\n",
        "    f1_scores.append(clf_report_oversampled[i]['f1-score'])\n",
        "\n",
        "# transform column index number to microstructure\n",
        "clf_report_oversampled = {categorical_key(k):v for (k,v) in clf_report_oversampled.items()}\n",
        "\n",
        "df_classification_report_oversampled = pd.DataFrame(\n",
        "    clf_report_oversampled\n",
        "  ).transpose()\n",
        "\n",
        "print(\"{0:30} {1:15} {2:30}\".format(oversampled, \n",
        "                              clf_report_oversampled['accuracy'], \n",
        "                              mean(f1_scores)))\n",
        "\n",
        "cm_microstructure_oversampled[oversampled] = \\\n",
        "  microstructure_confusion_matrix_oversampled\n",
        "\n",
        "print('\\n Model: ', model_name)\n",
        "print(df_classification_report_oversampled)"
      ],
      "metadata": {
        "id": "RfXTT8D-iK5T"
      },
      "execution_count": null,
      "outputs": []
    },
    {
      "cell_type": "markdown",
      "source": [
        "## Resultados dos hiperparâmetros otimizados validando com conjunto de teste"
      ],
      "metadata": {
        "id": "VnJbtDg6iLbL"
      }
    },
    {
      "cell_type": "code",
      "source": [
        "optimized_forest = RandomForestClassifier(random_state=54)\n",
        "    # random_state=54,\n",
        "    # criterion='gini', max_depth=13, max_features='auto', n_estimators=200 )\n",
        "\n",
        "\n",
        "# optimized_forest = RandomForestClassifier(\n",
        "#     random_state=54,\n",
        "#     criterion='entropy', max_depth=5, max_features=None, n_estimators=500 )\n",
        "\n",
        "# Fitting 10 folds for each of 792 candidates, totalling 7920 fits\n",
        "# {'criterion': 'entropy', 'max_depth': 5, 'max_features': None, 'n_estimators': 500}\n",
        "\n",
        "oversampled='KMeansSMOTE'\n",
        "model_name = optimized_forest.__class__.__name__\n",
        "\n",
        "homolog_fit = optimized_forest.fit(\n",
        "        data_oversampled[oversampled]['properties_train_oversampled'], \n",
        "        data_oversampled[oversampled]['microstructure_train_oversampled']\n",
        "        )\n",
        "\n",
        "caracteristic_homolog_pred = homolog_fit.predict(x_test_normalized)\n",
        "\n",
        "clf_report_oversampled_homolog = classification_report(\n",
        "    y_test_normalized, \n",
        "    caracteristic_homolog_pred,\n",
        "    output_dict=True\n",
        "  )\n",
        "\n",
        "f1_scores = []\n",
        "for i in clf_report_oversampled_homolog:\n",
        "  if is_float(i):\n",
        "    f1_scores.append(clf_report_oversampled_homolog[i]['f1-score'])\n",
        "\n",
        "# transform column index number to microstructure\n",
        "clf_report_oversampled_homolog = {categorical_key(k):v for (k,v) in clf_report_oversampled_homolog.items()}\n",
        "\n",
        "df_classification_report_oversampled_homolog = pd.DataFrame(\n",
        "    clf_report_oversampled_homolog\n",
        "  ).transpose()\n",
        "\n",
        "\n",
        "print(\"{0:30} {1:15} {2:30}\".format(oversampled, \n",
        "                              clf_report_oversampled_homolog['accuracy'], \n",
        "                              mean(f1_scores)))\n",
        "\n",
        "cm_microstructure_oversampled_homolog[oversampled] = confusion_matrix(\n",
        "    y_test_droped_duplicates, \n",
        "    caracteristic_homolog_pred,\n",
        ")\n",
        "\n",
        "print('\\n Model: ', model_name)\n",
        "print(df_classification_report_oversampled_homolog)"
      ],
      "metadata": {
        "id": "1-F5pBqJc6Kg"
      },
      "execution_count": null,
      "outputs": []
    },
    {
      "cell_type": "code",
      "source": [
        "import numpy as np\n",
        "def rd(n, total_sum):\n",
        "    nums = np.random.rand(n)\n",
        "    return nums/np.sum(nums)*total_sum\n",
        "\n",
        "n = rd(16,1)\n",
        "\n"
      ],
      "metadata": {
        "id": "ycvHGy57wsDH"
      },
      "execution_count": null,
      "outputs": []
    },
    {
      "cell_type": "code",
      "source": [
        "n"
      ],
      "metadata": {
        "id": "4Zd6ZaQli7hl"
      },
      "execution_count": null,
      "outputs": []
    },
    {
      "cell_type": "code",
      "source": [
        "# n_elements = random.randint(3, 5)\n",
        "import random\n",
        "# composition = rd(n_elements,1)\n",
        "\n",
        "my_list = list([i for i in range(16)])\n",
        "random.shuffle(my_list)\n",
        "\n",
        "print(my_list)\n",
        "print(my_list[random.randint(0, 15)])"
      ],
      "metadata": {
        "id": "jcYQfVsniz6_"
      },
      "execution_count": null,
      "outputs": []
    },
    {
      "cell_type": "code",
      "source": [
        "import pandas as pd\n",
        "\n",
        "df_teste = pd.DataFrame([n], columns=properties_droped_duplicates.columns)\n",
        "\n",
        "my_list = list([i for i in range(16)])\n",
        "\n",
        "for i in range(500):\n",
        "\n",
        "  n_elements = random.randint(3, 5)\n",
        "  composition = rd(n_elements,1)\n",
        "\n",
        "  composition_final = [0] * 16\n",
        "  \n",
        "  random.shuffle(my_list)\n",
        "\n",
        "  for j in composition:\n",
        "    composition_final[my_list[random.randint(0, 15)]] = j\n",
        "    \n",
        "\n",
        "\n",
        "  new_row = pd.Series(composition_final, index = df_teste.columns)\n",
        "  df_teste = df_teste.append(new_row, ignore_index=True)\n",
        "\n",
        "print(df_teste)"
      ],
      "metadata": {
        "id": "b7O5Usq6x03q"
      },
      "execution_count": null,
      "outputs": []
    },
    {
      "cell_type": "code",
      "source": [
        "caracteristic_teste_predict[1]"
      ],
      "metadata": {
        "id": "bClmCawzoXDE"
      },
      "execution_count": null,
      "outputs": []
    },
    {
      "cell_type": "code",
      "source": [
        "# caracteristic_teste_predict = homolog_fit.predict(x_test_normalized)\n",
        "\n",
        "caracteristic_teste_predict = homolog_fit.predict(df_teste)\n",
        "print(caracteristic_teste_predict)\n",
        "\n",
        "micros_teste = [microstructure_ord_enc.inverse_transform([[k]])[0][0] for k in caracteristic_teste_predict]\n",
        "\n",
        "print(micros_teste)\n",
        "# x_test_normalized\n",
        "# df_teste"
      ],
      "metadata": {
        "id": "vdMGy9KNcWYE"
      },
      "execution_count": null,
      "outputs": []
    },
    {
      "cell_type": "code",
      "source": [
        "print(caracteristic_teste_predict)\n",
        "print(x_test_normalized)"
      ],
      "metadata": {
        "id": "vmOqg3ZshUbl"
      },
      "execution_count": null,
      "outputs": []
    }
  ],
  "metadata": {
    "colab": {
      "name": "Analise HEAs com Feature selection",
      "provenance": [],
      "mount_file_id": "1OKwKHf1Q0Rcz8rRXWoXbb_8qcwQFtSt8",
      "authorship_tag": "ABX9TyNeauMnRNgFMsISxu2CpPlI",
      "include_colab_link": true
    },
    "kernelspec": {
      "display_name": "Python 3",
      "name": "python3"
    },
    "language_info": {
      "name": "python"
    }
  },
  "nbformat": 4,
  "nbformat_minor": 0
}